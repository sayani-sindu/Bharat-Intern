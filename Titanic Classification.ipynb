{
 "cells": [
  {
   "cell_type": "markdown",
   "id": "d762130c",
   "metadata": {},
   "source": [
    "# TITANIC CLASSIFICATION\n",
    "\n",
    "Sindu Sayani"
   ]
  },
  {
   "cell_type": "markdown",
   "id": "935696b7",
   "metadata": {},
   "source": [
    "Dataset:https://storage.googleapis.com/kagglesdsdata/competitions/3136/26502"
   ]
  },
  {
   "cell_type": "markdown",
   "id": "c7753ef0",
   "metadata": {},
   "source": [
    "This dataset contains all the details of the passengers and based on this data we have to decide that passenger is survived or not"
   ]
  },
  {
   "cell_type": "code",
   "execution_count": 53,
   "id": "fe82ed8e",
   "metadata": {},
   "outputs": [],
   "source": [
    "# Importing the libraries \n",
    "\n",
    "import pandas as pd\n",
    "import numpy as np \n",
    "import matplotlib.pyplot as plt \n",
    "import seaborn as sns\n",
    "%matplotlib inline\n",
    "\n",
    "# Ignore harmless warnings \n",
    "\n",
    "import warnings \n",
    "warnings.filterwarnings(\"ignore\")\n",
    "\n",
    "# Set to display all the columns in dataset\n",
    "\n",
    "pd.set_option(\"display.max_columns\", None)\n",
    "\n",
    "# Import psql to run queries \n",
    "\n",
    "import pandasql as psql"
   ]
  },
  {
   "cell_type": "code",
   "execution_count": 54,
   "id": "963b446e",
   "metadata": {},
   "outputs": [
    {
     "data": {
      "text/html": [
       "<div>\n",
       "<style scoped>\n",
       "    .dataframe tbody tr th:only-of-type {\n",
       "        vertical-align: middle;\n",
       "    }\n",
       "\n",
       "    .dataframe tbody tr th {\n",
       "        vertical-align: top;\n",
       "    }\n",
       "\n",
       "    .dataframe thead th {\n",
       "        text-align: right;\n",
       "    }\n",
       "</style>\n",
       "<table border=\"1\" class=\"dataframe\">\n",
       "  <thead>\n",
       "    <tr style=\"text-align: right;\">\n",
       "      <th></th>\n",
       "      <th>PassengerId</th>\n",
       "      <th>Survived</th>\n",
       "      <th>Pclass</th>\n",
       "      <th>Name</th>\n",
       "      <th>Sex</th>\n",
       "      <th>Age</th>\n",
       "      <th>SibSp</th>\n",
       "      <th>Parch</th>\n",
       "      <th>Ticket</th>\n",
       "      <th>Fare</th>\n",
       "      <th>Cabin</th>\n",
       "      <th>Embarked</th>\n",
       "    </tr>\n",
       "  </thead>\n",
       "  <tbody>\n",
       "    <tr>\n",
       "      <th>0</th>\n",
       "      <td>1</td>\n",
       "      <td>0</td>\n",
       "      <td>3</td>\n",
       "      <td>Braund, Mr. Owen Harris</td>\n",
       "      <td>male</td>\n",
       "      <td>22.0</td>\n",
       "      <td>1</td>\n",
       "      <td>0</td>\n",
       "      <td>A/5 21171</td>\n",
       "      <td>7.2500</td>\n",
       "      <td>NaN</td>\n",
       "      <td>S</td>\n",
       "    </tr>\n",
       "    <tr>\n",
       "      <th>1</th>\n",
       "      <td>2</td>\n",
       "      <td>1</td>\n",
       "      <td>1</td>\n",
       "      <td>Cumings, Mrs. John Bradley (Florence Briggs Th...</td>\n",
       "      <td>female</td>\n",
       "      <td>38.0</td>\n",
       "      <td>1</td>\n",
       "      <td>0</td>\n",
       "      <td>PC 17599</td>\n",
       "      <td>71.2833</td>\n",
       "      <td>C85</td>\n",
       "      <td>C</td>\n",
       "    </tr>\n",
       "    <tr>\n",
       "      <th>2</th>\n",
       "      <td>3</td>\n",
       "      <td>1</td>\n",
       "      <td>3</td>\n",
       "      <td>Heikkinen, Miss. Laina</td>\n",
       "      <td>female</td>\n",
       "      <td>26.0</td>\n",
       "      <td>0</td>\n",
       "      <td>0</td>\n",
       "      <td>STON/O2. 3101282</td>\n",
       "      <td>7.9250</td>\n",
       "      <td>NaN</td>\n",
       "      <td>S</td>\n",
       "    </tr>\n",
       "    <tr>\n",
       "      <th>3</th>\n",
       "      <td>4</td>\n",
       "      <td>1</td>\n",
       "      <td>1</td>\n",
       "      <td>Futrelle, Mrs. Jacques Heath (Lily May Peel)</td>\n",
       "      <td>female</td>\n",
       "      <td>35.0</td>\n",
       "      <td>1</td>\n",
       "      <td>0</td>\n",
       "      <td>113803</td>\n",
       "      <td>53.1000</td>\n",
       "      <td>C123</td>\n",
       "      <td>S</td>\n",
       "    </tr>\n",
       "    <tr>\n",
       "      <th>4</th>\n",
       "      <td>5</td>\n",
       "      <td>0</td>\n",
       "      <td>3</td>\n",
       "      <td>Allen, Mr. William Henry</td>\n",
       "      <td>male</td>\n",
       "      <td>35.0</td>\n",
       "      <td>0</td>\n",
       "      <td>0</td>\n",
       "      <td>373450</td>\n",
       "      <td>8.0500</td>\n",
       "      <td>NaN</td>\n",
       "      <td>S</td>\n",
       "    </tr>\n",
       "  </tbody>\n",
       "</table>\n",
       "</div>"
      ],
      "text/plain": [
       "   PassengerId  Survived  Pclass  \\\n",
       "0            1         0       3   \n",
       "1            2         1       1   \n",
       "2            3         1       3   \n",
       "3            4         1       1   \n",
       "4            5         0       3   \n",
       "\n",
       "                                                Name     Sex   Age  SibSp  \\\n",
       "0                            Braund, Mr. Owen Harris    male  22.0      1   \n",
       "1  Cumings, Mrs. John Bradley (Florence Briggs Th...  female  38.0      1   \n",
       "2                             Heikkinen, Miss. Laina  female  26.0      0   \n",
       "3       Futrelle, Mrs. Jacques Heath (Lily May Peel)  female  35.0      1   \n",
       "4                           Allen, Mr. William Henry    male  35.0      0   \n",
       "\n",
       "   Parch            Ticket     Fare Cabin Embarked  \n",
       "0      0         A/5 21171   7.2500   NaN        S  \n",
       "1      0          PC 17599  71.2833   C85        C  \n",
       "2      0  STON/O2. 3101282   7.9250   NaN        S  \n",
       "3      0            113803  53.1000  C123        S  \n",
       "4      0            373450   8.0500   NaN        S  "
      ]
     },
     "execution_count": 54,
     "metadata": {},
     "output_type": "execute_result"
    }
   ],
   "source": [
    "# Load the weather dataset\n",
    "\n",
    "survive_data= pd.read_csv(r\"C:\\Users\\sindu\\Downloads\\train.csv\", header=0)\n",
    "\n",
    "# Loading the Validation Dataset\n",
    "\n",
    "survive_test_data=pd.read_csv(r\"C:\\Users\\sindu\\Downloads\\test.csv\",header=0)\n",
    "\n",
    "# Copy to back-up file\n",
    "\n",
    "survive_data_backup = survive_data.copy()\n",
    "survive_test_data_backup=survive_test_data.copy()\n",
    "\n",
    "# Display first 5 records of train dataset\n",
    "\n",
    "survive_data.head()"
   ]
  },
  {
   "cell_type": "markdown",
   "id": "7b61bc33",
   "metadata": {},
   "source": [
    "# Data cleaning"
   ]
  },
  {
   "cell_type": "code",
   "execution_count": 55,
   "id": "d2d6c5e7",
   "metadata": {},
   "outputs": [
    {
     "data": {
      "text/plain": [
       "PassengerId    891\n",
       "Survived         2\n",
       "Pclass           3\n",
       "Name           891\n",
       "Sex              2\n",
       "Age             88\n",
       "SibSp            7\n",
       "Parch            7\n",
       "Ticket         681\n",
       "Fare           248\n",
       "Cabin          147\n",
       "Embarked         3\n",
       "dtype: int64"
      ]
     },
     "execution_count": 55,
     "metadata": {},
     "output_type": "execute_result"
    }
   ],
   "source": [
    "survive_data.nunique()"
   ]
  },
  {
   "cell_type": "code",
   "execution_count": 56,
   "id": "b5a6987c",
   "metadata": {},
   "outputs": [
    {
     "name": "stdout",
     "output_type": "stream",
     "text": [
      "<class 'pandas.core.frame.DataFrame'>\n",
      "RangeIndex: 891 entries, 0 to 890\n",
      "Data columns (total 12 columns):\n",
      " #   Column       Non-Null Count  Dtype  \n",
      "---  ------       --------------  -----  \n",
      " 0   PassengerId  891 non-null    int64  \n",
      " 1   Survived     891 non-null    int64  \n",
      " 2   Pclass       891 non-null    int64  \n",
      " 3   Name         891 non-null    object \n",
      " 4   Sex          891 non-null    object \n",
      " 5   Age          714 non-null    float64\n",
      " 6   SibSp        891 non-null    int64  \n",
      " 7   Parch        891 non-null    int64  \n",
      " 8   Ticket       891 non-null    object \n",
      " 9   Fare         891 non-null    float64\n",
      " 10  Cabin        204 non-null    object \n",
      " 11  Embarked     889 non-null    object \n",
      "dtypes: float64(2), int64(5), object(5)\n",
      "memory usage: 83.7+ KB\n"
     ]
    }
   ],
   "source": [
    "survive_data.info()"
   ]
  },
  {
   "cell_type": "code",
   "execution_count": 57,
   "id": "bf93107d",
   "metadata": {},
   "outputs": [
    {
     "data": {
      "text/plain": [
       "PassengerId      0\n",
       "Survived         0\n",
       "Pclass           0\n",
       "Name             0\n",
       "Sex              0\n",
       "Age            177\n",
       "SibSp            0\n",
       "Parch            0\n",
       "Ticket           0\n",
       "Fare             0\n",
       "Cabin          687\n",
       "Embarked         2\n",
       "dtype: int64"
      ]
     },
     "execution_count": 57,
     "metadata": {},
     "output_type": "execute_result"
    }
   ],
   "source": [
    "survive_data.isnull().sum()"
   ]
  },
  {
   "cell_type": "code",
   "execution_count": 58,
   "id": "adef67d5",
   "metadata": {},
   "outputs": [
    {
     "name": "stdout",
     "output_type": "stream",
     "text": [
      "<class 'pandas.core.frame.DataFrame'>\n",
      "RangeIndex: 418 entries, 0 to 417\n",
      "Data columns (total 11 columns):\n",
      " #   Column       Non-Null Count  Dtype  \n",
      "---  ------       --------------  -----  \n",
      " 0   PassengerId  418 non-null    int64  \n",
      " 1   Pclass       418 non-null    int64  \n",
      " 2   Name         418 non-null    object \n",
      " 3   Sex          418 non-null    object \n",
      " 4   Age          332 non-null    float64\n",
      " 5   SibSp        418 non-null    int64  \n",
      " 6   Parch        418 non-null    int64  \n",
      " 7   Ticket       418 non-null    object \n",
      " 8   Fare         417 non-null    float64\n",
      " 9   Cabin        91 non-null     object \n",
      " 10  Embarked     418 non-null    object \n",
      "dtypes: float64(2), int64(4), object(5)\n",
      "memory usage: 36.0+ KB\n"
     ]
    }
   ],
   "source": [
    "survive_test_data.info()"
   ]
  },
  {
   "cell_type": "code",
   "execution_count": 59,
   "id": "bf74e376",
   "metadata": {},
   "outputs": [
    {
     "data": {
      "text/plain": [
       "PassengerId      0\n",
       "Pclass           0\n",
       "Name             0\n",
       "Sex              0\n",
       "Age             86\n",
       "SibSp            0\n",
       "Parch            0\n",
       "Ticket           0\n",
       "Fare             1\n",
       "Cabin          327\n",
       "Embarked         0\n",
       "dtype: int64"
      ]
     },
     "execution_count": 59,
     "metadata": {},
     "output_type": "execute_result"
    }
   ],
   "source": [
    "survive_test_data.isnull().sum()"
   ]
  },
  {
   "cell_type": "code",
   "execution_count": 60,
   "id": "2e22806f",
   "metadata": {},
   "outputs": [],
   "source": [
    "# functions for better visualization of the posterior plots\n",
    "\n",
    "def resizeplot():\n",
    "    plt.figure(figsize=(12,6))\n",
    "    \n",
    "# function for correlations plots\n",
    "\n",
    "def resizecorr():\n",
    "    plt.figure(figsize=(15,7))"
   ]
  },
  {
   "cell_type": "code",
   "execution_count": 61,
   "id": "57ace20a",
   "metadata": {},
   "outputs": [
    {
     "data": {
      "text/plain": [
       "<AxesSubplot:>"
      ]
     },
     "execution_count": 61,
     "metadata": {},
     "output_type": "execute_result"
    },
    {
     "data": {
      "image/png": "[encoded data removed]",
      "text/plain": [
       "<Figure size 1200x600 with 1 Axes>"
      ]
     },
     "metadata": {},
     "output_type": "display_data"
    }
   ],
   "source": [
    "# Visualize missing data in graph\n",
    "\n",
    "resizeplot()\n",
    "sns.heatmap(survive_data.isnull(),yticklabels=False,cbar=False,cmap='viridis')"
   ]
  },
  {
   "cell_type": "code",
   "execution_count": 63,
   "id": "16f1dc38",
   "metadata": {},
   "outputs": [],
   "source": [
    "#use Simpleimputer to address missing values\n",
    "\n",
    "\n",
    "from sklearn.impute import SimpleImputer\n",
    "\n",
    "imputer_str = SimpleImputer(missing_values=np.nan, strategy='most_frequent', fill_value=None, verbose=0,\n",
    "                            copy=True, add_indicator=False)\n",
    "\n",
    "survive_data['Age'] = imputer_str.fit_transform(survive_data[['Age']])\n",
    "survive_data['Cabin'] = imputer_str.fit_transform(survive_data[['Cabin']])\n",
    "\n",
    "survive_data['Embarked'] = imputer_str.fit_transform(survive_data[['Embarked']])\n"
   ]
  },
  {
   "cell_type": "code",
   "execution_count": 64,
   "id": "e5a252a4",
   "metadata": {},
   "outputs": [
    {
     "data": {
      "text/plain": [
       "<AxesSubplot:>"
      ]
     },
     "execution_count": 64,
     "metadata": {},
     "output_type": "execute_result"
    },
    {
     "data": {
      "image/png": "[encoded data removed]",
      "text/plain": [
       "<Figure size 1200x600 with 1 Axes>"
      ]
     },
     "metadata": {},
     "output_type": "display_data"
    }
   ],
   "source": [
    "# Visualize missing data in graph\n",
    "\n",
    "resizeplot()\n",
    "sns.heatmap(survive_data.isnull(),yticklabels=False,cbar=False,cmap='viridis')"
   ]
  },
  {
   "cell_type": "code",
   "execution_count": 65,
   "id": "b9177b0a",
   "metadata": {},
   "outputs": [
    {
     "data": {
      "text/plain": [
       "<AxesSubplot:>"
      ]
     },
     "execution_count": 65,
     "metadata": {},
     "output_type": "execute_result"
    },
    {
     "data": {
      "image/png": "[encoded data removed]",
      "text/plain": [
       "<Figure size 1200x600 with 1 Axes>"
      ]
     },
     "metadata": {},
     "output_type": "display_data"
    }
   ],
   "source": [
    "# Visualize missing data in graph\n",
    "\n",
    "resizeplot()\n",
    "sns.heatmap(survive_test_data.isnull(),yticklabels=False,cbar=False,cmap='viridis')"
   ]
  },
  {
   "cell_type": "code",
   "execution_count": 66,
   "id": "ffba79d3",
   "metadata": {},
   "outputs": [],
   "source": [
    "#use Simpleimputer to address missing values\n",
    "\n",
    "\n",
    "from sklearn.impute import SimpleImputer\n",
    "\n",
    "imputer_str = SimpleImputer(missing_values=np.nan, strategy='most_frequent', fill_value=None, verbose=0,\n",
    "                            copy=True, add_indicator=False)\n",
    "\n",
    "survive_test_data['Age'] = imputer_str.fit_transform(survive_test_data[['Age']])\n",
    "survive_test_data['Cabin'] = imputer_str.fit_transform(survive_test_data[['Cabin']])\n",
    "survive_test_data['Fare'] = imputer_str.fit_transform(survive_test_data[['Fare']])"
   ]
  },
  {
   "cell_type": "code",
   "execution_count": 67,
   "id": "323ece2b",
   "metadata": {},
   "outputs": [
    {
     "data": {
      "text/plain": [
       "<AxesSubplot:>"
      ]
     },
     "execution_count": 67,
     "metadata": {},
     "output_type": "execute_result"
    },
    {
     "data": {
      "image/png": "[encoded data removed]",
      "text/plain": [
       "<Figure size 1200x600 with 1 Axes>"
      ]
     },
     "metadata": {},
     "output_type": "display_data"
    }
   ],
   "source": [
    "# Visualize missing data in graph\n",
    "\n",
    "resizeplot()\n",
    "sns.heatmap(survive_test_data.isnull(),yticklabels=False,cbar=False,cmap='viridis')"
   ]
  },
  {
   "cell_type": "markdown",
   "id": "5f6fc817",
   "metadata": {},
   "source": [
    "From the above two graphs we have deleted all the null values"
   ]
  },
  {
   "cell_type": "code",
   "execution_count": 68,
   "id": "32845cc7",
   "metadata": {},
   "outputs": [
    {
     "data": {
      "text/plain": [
       "PassengerId    0\n",
       "Survived       0\n",
       "Pclass         0\n",
       "Name           0\n",
       "Sex            0\n",
       "Age            0\n",
       "SibSp          0\n",
       "Parch          0\n",
       "Ticket         0\n",
       "Fare           0\n",
       "Cabin          0\n",
       "Embarked       0\n",
       "dtype: int64"
      ]
     },
     "execution_count": 68,
     "metadata": {},
     "output_type": "execute_result"
    }
   ],
   "source": [
    "survive_data.isnull().sum()\n"
   ]
  },
  {
   "cell_type": "code",
   "execution_count": 69,
   "id": "74c4d23d",
   "metadata": {},
   "outputs": [
    {
     "data": {
      "text/plain": [
       "PassengerId    0\n",
       "Pclass         0\n",
       "Name           0\n",
       "Sex            0\n",
       "Age            0\n",
       "SibSp          0\n",
       "Parch          0\n",
       "Ticket         0\n",
       "Fare           0\n",
       "Cabin          0\n",
       "Embarked       0\n",
       "dtype: int64"
      ]
     },
     "execution_count": 69,
     "metadata": {},
     "output_type": "execute_result"
    }
   ],
   "source": [
    "survive_test_data.isnull().sum()\n"
   ]
  },
  {
   "cell_type": "code",
   "execution_count": 70,
   "id": "34a515b9",
   "metadata": {},
   "outputs": [
    {
     "data": {
      "text/plain": [
       "False"
      ]
     },
     "execution_count": 70,
     "metadata": {},
     "output_type": "execute_result"
    }
   ],
   "source": [
    "# check whether there are duplicates in the train data\n",
    "survive_data.duplicated().any()"
   ]
  },
  {
   "cell_type": "code",
   "execution_count": 71,
   "id": "fef2b1b8",
   "metadata": {},
   "outputs": [
    {
     "data": {
      "text/plain": [
       "False"
      ]
     },
     "execution_count": 71,
     "metadata": {},
     "output_type": "execute_result"
    }
   ],
   "source": [
    "survive_test_data.duplicated().any()"
   ]
  },
  {
   "cell_type": "markdown",
   "id": "d14161fb",
   "metadata": {},
   "source": [
    "No Duplicate values are present\n"
   ]
  },
  {
   "cell_type": "code",
   "execution_count": 72,
   "id": "11ba6c25",
   "metadata": {},
   "outputs": [
    {
     "name": "stdout",
     "output_type": "stream",
     "text": [
      "<class 'pandas.core.frame.DataFrame'>\n",
      "RangeIndex: 891 entries, 0 to 890\n",
      "Data columns (total 12 columns):\n",
      " #   Column       Non-Null Count  Dtype  \n",
      "---  ------       --------------  -----  \n",
      " 0   PassengerId  891 non-null    int64  \n",
      " 1   Survived     891 non-null    int64  \n",
      " 2   Pclass       891 non-null    int64  \n",
      " 3   Name         891 non-null    object \n",
      " 4   Sex          891 non-null    object \n",
      " 5   Age          891 non-null    float64\n",
      " 6   SibSp        891 non-null    int64  \n",
      " 7   Parch        891 non-null    int64  \n",
      " 8   Ticket       891 non-null    object \n",
      " 9   Fare         891 non-null    float64\n",
      " 10  Cabin        891 non-null    object \n",
      " 11  Embarked     891 non-null    object \n",
      "dtypes: float64(2), int64(5), object(5)\n",
      "memory usage: 83.7+ KB\n"
     ]
    }
   ],
   "source": [
    "survive_data.info()"
   ]
  },
  {
   "cell_type": "code",
   "execution_count": 73,
   "id": "6ea2f945",
   "metadata": {},
   "outputs": [],
   "source": [
    "del survive_data[\"Name\"]"
   ]
  },
  {
   "cell_type": "code",
   "execution_count": 74,
   "id": "2dad5488",
   "metadata": {},
   "outputs": [
    {
     "name": "stdout",
     "output_type": "stream",
     "text": [
      "<class 'pandas.core.frame.DataFrame'>\n",
      "RangeIndex: 891 entries, 0 to 890\n",
      "Data columns (total 11 columns):\n",
      " #   Column       Non-Null Count  Dtype  \n",
      "---  ------       --------------  -----  \n",
      " 0   PassengerId  891 non-null    int64  \n",
      " 1   Survived     891 non-null    int64  \n",
      " 2   Pclass       891 non-null    int64  \n",
      " 3   Sex          891 non-null    object \n",
      " 4   Age          891 non-null    float64\n",
      " 5   SibSp        891 non-null    int64  \n",
      " 6   Parch        891 non-null    int64  \n",
      " 7   Ticket       891 non-null    object \n",
      " 8   Fare         891 non-null    float64\n",
      " 9   Cabin        891 non-null    object \n",
      " 10  Embarked     891 non-null    object \n",
      "dtypes: float64(2), int64(5), object(4)\n",
      "memory usage: 76.7+ KB\n"
     ]
    }
   ],
   "source": [
    "survive_data.info()"
   ]
  },
  {
   "cell_type": "code",
   "execution_count": 75,
   "id": "af4287b2",
   "metadata": {},
   "outputs": [],
   "source": [
    "# label encoder  to handle categorical data from the train dataset\n",
    "\n",
    "from sklearn.preprocessing import LabelEncoder\n",
    "l=LabelEncoder()\n",
    "survive_data['Sex']=l.fit_transform(survive_data[['Sex']])"
   ]
  },
  {
   "cell_type": "code",
   "execution_count": 76,
   "id": "b122702f",
   "metadata": {},
   "outputs": [
    {
     "data": {
      "text/plain": [
       "0      1\n",
       "1      0\n",
       "2      0\n",
       "3      0\n",
       "4      1\n",
       "      ..\n",
       "886    1\n",
       "887    0\n",
       "888    0\n",
       "889    1\n",
       "890    1\n",
       "Name: Sex, Length: 891, dtype: int32"
      ]
     },
     "execution_count": 76,
     "metadata": {},
     "output_type": "execute_result"
    }
   ],
   "source": [
    "# Converting the Attribute \"Sex\" from \"Object\" to \"int\"\n",
    "\n",
    "survive_data['Sex'].astype(int)"
   ]
  },
  {
   "cell_type": "code",
   "execution_count": 77,
   "id": "b45d719f",
   "metadata": {},
   "outputs": [
    {
     "name": "stdout",
     "output_type": "stream",
     "text": [
      "<class 'pandas.core.frame.DataFrame'>\n",
      "RangeIndex: 891 entries, 0 to 890\n",
      "Data columns (total 11 columns):\n",
      " #   Column       Non-Null Count  Dtype  \n",
      "---  ------       --------------  -----  \n",
      " 0   PassengerId  891 non-null    int64  \n",
      " 1   Survived     891 non-null    int64  \n",
      " 2   Pclass       891 non-null    int64  \n",
      " 3   Sex          891 non-null    int32  \n",
      " 4   Age          891 non-null    float64\n",
      " 5   SibSp        891 non-null    int64  \n",
      " 6   Parch        891 non-null    int64  \n",
      " 7   Ticket       891 non-null    object \n",
      " 8   Fare         891 non-null    float64\n",
      " 9   Cabin        891 non-null    object \n",
      " 10  Embarked     891 non-null    object \n",
      "dtypes: float64(2), int32(1), int64(5), object(3)\n",
      "memory usage: 73.2+ KB\n"
     ]
    }
   ],
   "source": [
    "survive_data.info()"
   ]
  },
  {
   "cell_type": "code",
   "execution_count": 78,
   "id": "731ae34a",
   "metadata": {},
   "outputs": [],
   "source": [
    "del survive_data[\"PassengerId\"],survive_data[\"Ticket\"] "
   ]
  },
  {
   "cell_type": "code",
   "execution_count": 79,
   "id": "9bd9da52",
   "metadata": {},
   "outputs": [
    {
     "name": "stdout",
     "output_type": "stream",
     "text": [
      "<class 'pandas.core.frame.DataFrame'>\n",
      "RangeIndex: 891 entries, 0 to 890\n",
      "Data columns (total 9 columns):\n",
      " #   Column    Non-Null Count  Dtype  \n",
      "---  ------    --------------  -----  \n",
      " 0   Survived  891 non-null    int64  \n",
      " 1   Pclass    891 non-null    int64  \n",
      " 2   Sex       891 non-null    int32  \n",
      " 3   Age       891 non-null    float64\n",
      " 4   SibSp     891 non-null    int64  \n",
      " 5   Parch     891 non-null    int64  \n",
      " 6   Fare      891 non-null    float64\n",
      " 7   Cabin     891 non-null    object \n",
      " 8   Embarked  891 non-null    object \n",
      "dtypes: float64(2), int32(1), int64(4), object(2)\n",
      "memory usage: 59.3+ KB\n"
     ]
    }
   ],
   "source": [
    "survive_data.info()"
   ]
  },
  {
   "cell_type": "code",
   "execution_count": 80,
   "id": "2ec6d816",
   "metadata": {},
   "outputs": [],
   "source": [
    "del survive_data[\"Cabin\"],survive_data[\"Embarked\"]"
   ]
  },
  {
   "cell_type": "code",
   "execution_count": 81,
   "id": "d604150c",
   "metadata": {},
   "outputs": [
    {
     "name": "stdout",
     "output_type": "stream",
     "text": [
      "<class 'pandas.core.frame.DataFrame'>\n",
      "RangeIndex: 891 entries, 0 to 890\n",
      "Data columns (total 7 columns):\n",
      " #   Column    Non-Null Count  Dtype  \n",
      "---  ------    --------------  -----  \n",
      " 0   Survived  891 non-null    int64  \n",
      " 1   Pclass    891 non-null    int64  \n",
      " 2   Sex       891 non-null    int32  \n",
      " 3   Age       891 non-null    float64\n",
      " 4   SibSp     891 non-null    int64  \n",
      " 5   Parch     891 non-null    int64  \n",
      " 6   Fare      891 non-null    float64\n",
      "dtypes: float64(2), int32(1), int64(4)\n",
      "memory usage: 45.4 KB\n"
     ]
    }
   ],
   "source": [
    "survive_data.info()"
   ]
  },
  {
   "cell_type": "code",
   "execution_count": 82,
   "id": "fdf2a4f1",
   "metadata": {},
   "outputs": [
    {
     "name": "stdout",
     "output_type": "stream",
     "text": [
      "<class 'pandas.core.frame.DataFrame'>\n",
      "RangeIndex: 418 entries, 0 to 417\n",
      "Data columns (total 11 columns):\n",
      " #   Column       Non-Null Count  Dtype  \n",
      "---  ------       --------------  -----  \n",
      " 0   PassengerId  418 non-null    int64  \n",
      " 1   Pclass       418 non-null    int64  \n",
      " 2   Name         418 non-null    object \n",
      " 3   Sex          418 non-null    object \n",
      " 4   Age          418 non-null    float64\n",
      " 5   SibSp        418 non-null    int64  \n",
      " 6   Parch        418 non-null    int64  \n",
      " 7   Ticket       418 non-null    object \n",
      " 8   Fare         418 non-null    float64\n",
      " 9   Cabin        418 non-null    object \n",
      " 10  Embarked     418 non-null    object \n",
      "dtypes: float64(2), int64(4), object(5)\n",
      "memory usage: 36.0+ KB\n"
     ]
    }
   ],
   "source": [
    "survive_test_data.info()"
   ]
  },
  {
   "cell_type": "code",
   "execution_count": 83,
   "id": "ce9553a7",
   "metadata": {},
   "outputs": [],
   "source": [
    "del survive_test_data[\"Name\"],survive_test_data[\"Ticket\"],survive_test_data[\"Cabin\"],survive_test_data[\"Embarked\"]"
   ]
  },
  {
   "cell_type": "code",
   "execution_count": 84,
   "id": "1ca95746",
   "metadata": {},
   "outputs": [
    {
     "name": "stdout",
     "output_type": "stream",
     "text": [
      "<class 'pandas.core.frame.DataFrame'>\n",
      "RangeIndex: 418 entries, 0 to 417\n",
      "Data columns (total 7 columns):\n",
      " #   Column       Non-Null Count  Dtype  \n",
      "---  ------       --------------  -----  \n",
      " 0   PassengerId  418 non-null    int64  \n",
      " 1   Pclass       418 non-null    int64  \n",
      " 2   Sex          418 non-null    object \n",
      " 3   Age          418 non-null    float64\n",
      " 4   SibSp        418 non-null    int64  \n",
      " 5   Parch        418 non-null    int64  \n",
      " 6   Fare         418 non-null    float64\n",
      "dtypes: float64(2), int64(4), object(1)\n",
      "memory usage: 23.0+ KB\n"
     ]
    }
   ],
   "source": [
    "survive_test_data.info()"
   ]
  },
  {
   "cell_type": "code",
   "execution_count": 85,
   "id": "1ea3567f",
   "metadata": {},
   "outputs": [],
   "source": [
    "# label encoder  to handle categorical data from the train dataset\n",
    "\n",
    "from sklearn.preprocessing import LabelEncoder\n",
    "l=LabelEncoder()\n",
    "survive_test_data['Sex']=l.fit_transform(survive_test_data[['Sex']])"
   ]
  },
  {
   "cell_type": "code",
   "execution_count": 86,
   "id": "3c08be06",
   "metadata": {},
   "outputs": [
    {
     "name": "stdout",
     "output_type": "stream",
     "text": [
      "<class 'pandas.core.frame.DataFrame'>\n",
      "RangeIndex: 418 entries, 0 to 417\n",
      "Data columns (total 7 columns):\n",
      " #   Column       Non-Null Count  Dtype  \n",
      "---  ------       --------------  -----  \n",
      " 0   PassengerId  418 non-null    int64  \n",
      " 1   Pclass       418 non-null    int64  \n",
      " 2   Sex          418 non-null    int32  \n",
      " 3   Age          418 non-null    float64\n",
      " 4   SibSp        418 non-null    int64  \n",
      " 5   Parch        418 non-null    int64  \n",
      " 6   Fare         418 non-null    float64\n",
      "dtypes: float64(2), int32(1), int64(4)\n",
      "memory usage: 21.4 KB\n"
     ]
    }
   ],
   "source": [
    "survive_test_data.info()"
   ]
  },
  {
   "cell_type": "code",
   "execution_count": 87,
   "id": "ffd52049",
   "metadata": {},
   "outputs": [],
   "source": [
    "del survive_test_data[\"PassengerId\"]"
   ]
  },
  {
   "cell_type": "raw",
   "id": "2c4cc5e8",
   "metadata": {},
   "source": [
    "survive_test_data.info()"
   ]
  },
  {
   "cell_type": "code",
   "execution_count": 88,
   "id": "044fbab8",
   "metadata": {},
   "outputs": [
    {
     "name": "stdout",
     "output_type": "stream",
     "text": [
      "<class 'pandas.core.frame.DataFrame'>\n",
      "RangeIndex: 418 entries, 0 to 417\n",
      "Data columns (total 6 columns):\n",
      " #   Column  Non-Null Count  Dtype  \n",
      "---  ------  --------------  -----  \n",
      " 0   Pclass  418 non-null    int64  \n",
      " 1   Sex     418 non-null    int32  \n",
      " 2   Age     418 non-null    float64\n",
      " 3   SibSp   418 non-null    int64  \n",
      " 4   Parch   418 non-null    int64  \n",
      " 5   Fare    418 non-null    float64\n",
      "dtypes: float64(2), int32(1), int64(3)\n",
      "memory usage: 18.1 KB\n"
     ]
    }
   ],
   "source": [
    "survive_test_data.info()"
   ]
  },
  {
   "cell_type": "markdown",
   "id": "71a33de6",
   "metadata": {},
   "source": [
    "# Data Preprocessing"
   ]
  },
  {
   "cell_type": "code",
   "execution_count": 89,
   "id": "0213a265",
   "metadata": {},
   "outputs": [
    {
     "name": "stdout",
     "output_type": "stream",
     "text": [
      "class 0 549\n",
      "class 1 342\n",
      "proportion: 1.61 : 1\n",
      "Total bank records : 891\n"
     ]
    }
   ],
   "source": [
    "# TRAIN DATA\n",
    "\n",
    "# count the target or dependent variable by '0' & '1' and their proportion\n",
    "# (>=10):1 the the data is inbalance data\n",
    "\n",
    "survive_score_count=survive_data.Survived.value_counts()\n",
    "print(\"class 0\",survive_score_count[0])\n",
    "print(\"class 1\",survive_score_count[1])\n",
    "print(\"proportion:\",round(survive_score_count[0]/survive_score_count[1],2),\": 1\")\n",
    "print(\"Total bank records :\",len(survive_data))"
   ]
  },
  {
   "cell_type": "code",
   "execution_count": 90,
   "id": "8a33747e",
   "metadata": {},
   "outputs": [],
   "source": [
    "# identifying independent and target variable\n",
    "\n",
    "IndepVar=[]\n",
    "for col in survive_data.columns:\n",
    "    if col != 'Survived':\n",
    "        IndepVar.append(col)\n",
    "TarVar='Survived'\n",
    "x=survive_data[IndepVar]\n",
    "y=survive_data[TarVar]"
   ]
  },
  {
   "cell_type": "code",
   "execution_count": 91,
   "id": "548820b9",
   "metadata": {},
   "outputs": [
    {
     "data": {
      "text/html": [
       "<div>\n",
       "<style scoped>\n",
       "    .dataframe tbody tr th:only-of-type {\n",
       "        vertical-align: middle;\n",
       "    }\n",
       "\n",
       "    .dataframe tbody tr th {\n",
       "        vertical-align: top;\n",
       "    }\n",
       "\n",
       "    .dataframe thead th {\n",
       "        text-align: right;\n",
       "    }\n",
       "</style>\n",
       "<table border=\"1\" class=\"dataframe\">\n",
       "  <thead>\n",
       "    <tr style=\"text-align: right;\">\n",
       "      <th></th>\n",
       "      <th>Pclass</th>\n",
       "      <th>Sex</th>\n",
       "      <th>Age</th>\n",
       "      <th>SibSp</th>\n",
       "      <th>Parch</th>\n",
       "      <th>Fare</th>\n",
       "    </tr>\n",
       "  </thead>\n",
       "  <tbody>\n",
       "    <tr>\n",
       "      <th>0</th>\n",
       "      <td>3</td>\n",
       "      <td>1</td>\n",
       "      <td>22.0</td>\n",
       "      <td>1</td>\n",
       "      <td>0</td>\n",
       "      <td>7.2500</td>\n",
       "    </tr>\n",
       "    <tr>\n",
       "      <th>1</th>\n",
       "      <td>1</td>\n",
       "      <td>0</td>\n",
       "      <td>38.0</td>\n",
       "      <td>1</td>\n",
       "      <td>0</td>\n",
       "      <td>71.2833</td>\n",
       "    </tr>\n",
       "    <tr>\n",
       "      <th>2</th>\n",
       "      <td>3</td>\n",
       "      <td>0</td>\n",
       "      <td>26.0</td>\n",
       "      <td>0</td>\n",
       "      <td>0</td>\n",
       "      <td>7.9250</td>\n",
       "    </tr>\n",
       "    <tr>\n",
       "      <th>3</th>\n",
       "      <td>1</td>\n",
       "      <td>0</td>\n",
       "      <td>35.0</td>\n",
       "      <td>1</td>\n",
       "      <td>0</td>\n",
       "      <td>53.1000</td>\n",
       "    </tr>\n",
       "    <tr>\n",
       "      <th>4</th>\n",
       "      <td>3</td>\n",
       "      <td>1</td>\n",
       "      <td>35.0</td>\n",
       "      <td>0</td>\n",
       "      <td>0</td>\n",
       "      <td>8.0500</td>\n",
       "    </tr>\n",
       "  </tbody>\n",
       "</table>\n",
       "</div>"
      ],
      "text/plain": [
       "   Pclass  Sex   Age  SibSp  Parch     Fare\n",
       "0       3    1  22.0      1      0   7.2500\n",
       "1       1    0  38.0      1      0  71.2833\n",
       "2       3    0  26.0      0      0   7.9250\n",
       "3       1    0  35.0      1      0  53.1000\n",
       "4       3    1  35.0      0      0   8.0500"
      ]
     },
     "execution_count": 91,
     "metadata": {},
     "output_type": "execute_result"
    }
   ],
   "source": [
    "x.head()"
   ]
  },
  {
   "cell_type": "code",
   "execution_count": 92,
   "id": "60c58f15",
   "metadata": {},
   "outputs": [
    {
     "data": {
      "text/plain": [
       "0    0\n",
       "1    1\n",
       "2    1\n",
       "3    1\n",
       "4    0\n",
       "Name: Survived, dtype: int64"
      ]
     },
     "execution_count": 92,
     "metadata": {},
     "output_type": "execute_result"
    }
   ],
   "source": [
    "y.head()"
   ]
  },
  {
   "cell_type": "code",
   "execution_count": 93,
   "id": "39c8e7a7",
   "metadata": {},
   "outputs": [
    {
     "data": {
      "text/html": [
       "<div>\n",
       "<style scoped>\n",
       "    .dataframe tbody tr th:only-of-type {\n",
       "        vertical-align: middle;\n",
       "    }\n",
       "\n",
       "    .dataframe tbody tr th {\n",
       "        vertical-align: top;\n",
       "    }\n",
       "\n",
       "    .dataframe thead th {\n",
       "        text-align: right;\n",
       "    }\n",
       "</style>\n",
       "<table border=\"1\" class=\"dataframe\">\n",
       "  <thead>\n",
       "    <tr style=\"text-align: right;\">\n",
       "      <th></th>\n",
       "      <th>Survived</th>\n",
       "      <th>Pclass</th>\n",
       "      <th>Sex</th>\n",
       "      <th>Age</th>\n",
       "      <th>SibSp</th>\n",
       "      <th>Parch</th>\n",
       "      <th>Fare</th>\n",
       "    </tr>\n",
       "  </thead>\n",
       "  <tbody>\n",
       "    <tr>\n",
       "      <th>count</th>\n",
       "      <td>891.000000</td>\n",
       "      <td>891.000000</td>\n",
       "      <td>891.000000</td>\n",
       "      <td>891.000000</td>\n",
       "      <td>891.000000</td>\n",
       "      <td>891.000000</td>\n",
       "      <td>891.000000</td>\n",
       "    </tr>\n",
       "    <tr>\n",
       "      <th>mean</th>\n",
       "      <td>0.383838</td>\n",
       "      <td>2.308642</td>\n",
       "      <td>0.647587</td>\n",
       "      <td>28.566970</td>\n",
       "      <td>0.523008</td>\n",
       "      <td>0.381594</td>\n",
       "      <td>32.204208</td>\n",
       "    </tr>\n",
       "    <tr>\n",
       "      <th>std</th>\n",
       "      <td>0.486592</td>\n",
       "      <td>0.836071</td>\n",
       "      <td>0.477990</td>\n",
       "      <td>13.199572</td>\n",
       "      <td>1.102743</td>\n",
       "      <td>0.806057</td>\n",
       "      <td>49.693429</td>\n",
       "    </tr>\n",
       "    <tr>\n",
       "      <th>min</th>\n",
       "      <td>0.000000</td>\n",
       "      <td>1.000000</td>\n",
       "      <td>0.000000</td>\n",
       "      <td>0.420000</td>\n",
       "      <td>0.000000</td>\n",
       "      <td>0.000000</td>\n",
       "      <td>0.000000</td>\n",
       "    </tr>\n",
       "    <tr>\n",
       "      <th>25%</th>\n",
       "      <td>0.000000</td>\n",
       "      <td>2.000000</td>\n",
       "      <td>0.000000</td>\n",
       "      <td>22.000000</td>\n",
       "      <td>0.000000</td>\n",
       "      <td>0.000000</td>\n",
       "      <td>7.910400</td>\n",
       "    </tr>\n",
       "    <tr>\n",
       "      <th>50%</th>\n",
       "      <td>0.000000</td>\n",
       "      <td>3.000000</td>\n",
       "      <td>1.000000</td>\n",
       "      <td>24.000000</td>\n",
       "      <td>0.000000</td>\n",
       "      <td>0.000000</td>\n",
       "      <td>14.454200</td>\n",
       "    </tr>\n",
       "    <tr>\n",
       "      <th>75%</th>\n",
       "      <td>1.000000</td>\n",
       "      <td>3.000000</td>\n",
       "      <td>1.000000</td>\n",
       "      <td>35.000000</td>\n",
       "      <td>1.000000</td>\n",
       "      <td>0.000000</td>\n",
       "      <td>31.000000</td>\n",
       "    </tr>\n",
       "    <tr>\n",
       "      <th>max</th>\n",
       "      <td>1.000000</td>\n",
       "      <td>3.000000</td>\n",
       "      <td>1.000000</td>\n",
       "      <td>80.000000</td>\n",
       "      <td>8.000000</td>\n",
       "      <td>6.000000</td>\n",
       "      <td>512.329200</td>\n",
       "    </tr>\n",
       "  </tbody>\n",
       "</table>\n",
       "</div>"
      ],
      "text/plain": [
       "         Survived      Pclass         Sex         Age       SibSp       Parch  \\\n",
       "count  891.000000  891.000000  891.000000  891.000000  891.000000  891.000000   \n",
       "mean     0.383838    2.308642    0.647587   28.566970    0.523008    0.381594   \n",
       "std      0.486592    0.836071    0.477990   13.199572    1.102743    0.806057   \n",
       "min      0.000000    1.000000    0.000000    0.420000    0.000000    0.000000   \n",
       "25%      0.000000    2.000000    0.000000   22.000000    0.000000    0.000000   \n",
       "50%      0.000000    3.000000    1.000000   24.000000    0.000000    0.000000   \n",
       "75%      1.000000    3.000000    1.000000   35.000000    1.000000    0.000000   \n",
       "max      1.000000    3.000000    1.000000   80.000000    8.000000    6.000000   \n",
       "\n",
       "             Fare  \n",
       "count  891.000000  \n",
       "mean    32.204208  \n",
       "std     49.693429  \n",
       "min      0.000000  \n",
       "25%      7.910400  \n",
       "50%     14.454200  \n",
       "75%     31.000000  \n",
       "max    512.329200  "
      ]
     },
     "execution_count": 93,
     "metadata": {},
     "output_type": "execute_result"
    }
   ],
   "source": [
    "#Describe the data\n",
    "\n",
    "survive_data.describe()"
   ]
  },
  {
   "cell_type": "markdown",
   "id": "3d40ae63",
   "metadata": {},
   "source": [
    "# Visualization"
   ]
  },
  {
   "cell_type": "code",
   "execution_count": 94,
   "id": "6c23adf4",
   "metadata": {},
   "outputs": [
    {
     "data": {
      "text/plain": [
       "<AxesSubplot:xlabel='Sex'>"
      ]
     },
     "execution_count": 94,
     "metadata": {},
     "output_type": "execute_result"
    },
    {
     "data": {
      "image/png": "[encoded data removed]",
      "text/plain": [
       "<Figure size 640x480 with 1 Axes>"
      ]
     },
     "metadata": {},
     "output_type": "display_data"
    }
   ],
   "source": [
    "# Analysis based on Sex using Bar Chart\n",
    "\n",
    "survive_data.groupby(\"Sex\")[\"Survived\"].sum().plot.bar()"
   ]
  },
  {
   "cell_type": "code",
   "execution_count": 95,
   "id": "3eed08c2",
   "metadata": {},
   "outputs": [
    {
     "data": {
      "text/plain": [
       "<AxesSubplot:xlabel='Age'>"
      ]
     },
     "execution_count": 95,
     "metadata": {},
     "output_type": "execute_result"
    },
    {
     "data": {
      "image/png": "[encoded data removed]",
      "text/plain": [
       "<Figure size 640x480 with 1 Axes>"
      ]
     },
     "metadata": {},
     "output_type": "display_data"
    }
   ],
   "source": [
    "#Analysis based on Sex using Bar Chart\n",
    "\n",
    "survive_data.groupby(\"Age\")[\"Survived\"].sum().plot.bar()"
   ]
  },
  {
   "cell_type": "markdown",
   "id": "6138b391",
   "metadata": {},
   "source": [
    "From the visualization young people and ladies are survived in higher rate."
   ]
  },
  {
   "cell_type": "code",
   "execution_count": 96,
   "id": "070b53cf",
   "metadata": {},
   "outputs": [
    {
     "data": {
      "text/plain": [
       "<AxesSubplot:ylabel='Survived'>"
      ]
     },
     "execution_count": 96,
     "metadata": {},
     "output_type": "execute_result"
    },
    {
     "data": {
      "image/png": "[encoded data removed]",
      "text/plain": [
       "<Figure size 640x480 with 1 Axes>"
      ]
     },
     "metadata": {},
     "output_type": "display_data"
    }
   ],
   "source": [
    "# Analysis based on Sex and Survived\n",
    "\n",
    "survive_data.groupby(\"Sex\")[\"Survived\"].sum().plot.pie(autopct=\"%1.0f%%\")"
   ]
  },
  {
   "cell_type": "code",
   "execution_count": 97,
   "id": "a6317969",
   "metadata": {},
   "outputs": [
    {
     "data": {
      "text/plain": [
       "((623, 6), (268, 6), (623,), (268,))"
      ]
     },
     "execution_count": 97,
     "metadata": {},
     "output_type": "execute_result"
    }
   ],
   "source": [
    "# Split the data into train and test (random sampling)\n",
    "\n",
    "from sklearn.model_selection import train_test_split \n",
    "\n",
    "x_train, x_test, y_train, y_test = train_test_split(x, y, test_size=0.3, random_state=0)\n",
    "\n",
    "# Display the shape for train & test data\n",
    "\n",
    "x_train.shape,x_test.shape,y_train.shape,y_test.shape"
   ]
  },
  {
   "cell_type": "code",
   "execution_count": 98,
   "id": "6467f6f0",
   "metadata": {},
   "outputs": [],
   "source": [
    "# import the MinMaxScalar from sklearn\n",
    "\n",
    "from sklearn.preprocessing import MinMaxScaler\n",
    "mmscaler=MinMaxScaler(feature_range=(0 , 1))\n",
    "\n",
    "# fit_transform(). It will calculate the mean(μ)and standard deviation(σ) of the feature\n",
    "#F at a time it will transform the data points of the feature F.\n",
    "#x_train[cols2]=mmscaler.fit_transform(x_train[cols2])\n",
    "x_train=mmscaler.fit_transform(x_train)\n",
    "x_train=pd.DataFrame(x_train)\n",
    "\n",
    "#x_test[cols2]=mmscaler.fit_transform(x_test[cols2])\n",
    "x_test=mmscaler.fit_transform(x_test)\n",
    "x_test=pd.DataFrame(x_test)"
   ]
  },
  {
   "cell_type": "code",
   "execution_count": 99,
   "id": "6138118f",
   "metadata": {},
   "outputs": [
    {
     "data": {
      "text/html": [
       "<div>\n",
       "<style scoped>\n",
       "    .dataframe tbody tr th:only-of-type {\n",
       "        vertical-align: middle;\n",
       "    }\n",
       "\n",
       "    .dataframe tbody tr th {\n",
       "        vertical-align: top;\n",
       "    }\n",
       "\n",
       "    .dataframe thead th {\n",
       "        text-align: right;\n",
       "    }\n",
       "</style>\n",
       "<table border=\"1\" class=\"dataframe\">\n",
       "  <thead>\n",
       "    <tr style=\"text-align: right;\">\n",
       "      <th></th>\n",
       "      <th>Model Name</th>\n",
       "      <th>True_Positive</th>\n",
       "      <th>False_Negative</th>\n",
       "      <th>False_Positive</th>\n",
       "      <th>True_Negative</th>\n",
       "      <th>Accuracy</th>\n",
       "      <th>Precision</th>\n",
       "      <th>Recall</th>\n",
       "      <th>F1 Score</th>\n",
       "      <th>Specificity</th>\n",
       "      <th>MCC</th>\n",
       "      <th>ROC_AUC_Score</th>\n",
       "      <th>Balanced Accuracy</th>\n",
       "    </tr>\n",
       "  </thead>\n",
       "  <tbody>\n",
       "  </tbody>\n",
       "</table>\n",
       "</div>"
      ],
      "text/plain": [
       "Empty DataFrame\n",
       "Columns: [Model Name, True_Positive, False_Negative, False_Positive, True_Negative, Accuracy, Precision, Recall, F1 Score, Specificity, MCC, ROC_AUC_Score, Balanced Accuracy]\n",
       "Index: []"
      ]
     },
     "execution_count": 99,
     "metadata": {},
     "output_type": "execute_result"
    }
   ],
   "source": [
    "# load the result dataset\n",
    "Result=pd.read_csv(r\"C:\\Users\\sindu\\OneDrive\\Documents\\summer-1\\EMResults.csv\",header=0)\n",
    "\n",
    "# display first fve records\n",
    "\n",
    "Result"
   ]
  },
  {
   "cell_type": "code",
   "execution_count": 100,
   "id": "21d2e510",
   "metadata": {},
   "outputs": [
    {
     "name": "stdout",
     "output_type": "stream",
     "text": [
      "Model Name:  LogisticRegression()\n",
      "Confusion matrix : \n",
      " [[ 67  33]\n",
      " [ 21 147]]\n",
      "Outcome values : \n",
      " 67 33 21 147\n",
      "Classification report : \n",
      "               precision    recall  f1-score   support\n",
      "\n",
      "           1       0.76      0.67      0.71       100\n",
      "           0       0.82      0.88      0.84       168\n",
      "\n",
      "    accuracy                           0.80       268\n",
      "   macro avg       0.79      0.77      0.78       268\n",
      "weighted avg       0.80      0.80      0.80       268\n",
      "\n",
      "Accuracy : 79.9 %\n",
      "Precision : 76.1 %\n",
      "Recall : 67.0 %\n",
      "F1 Score : 0.713\n",
      "Specificity or True Negative Rate : 87.5 %\n",
      "Balanced Accuracy : 77.2 %\n",
      "MCC : 0.561\n",
      "roc_auc_score: 0.772\n"
     ]
    },
    {
     "data": {
      "image/png": "[encoded data removed]",
      "text/plain": [
       "<Figure size 640x480 with 1 Axes>"
      ]
     },
     "metadata": {},
     "output_type": "display_data"
    },
    {
     "name": "stdout",
     "output_type": "stream",
     "text": [
      "-----------------------------------------------------------------------------------------------------\n",
      "Model Name:  DecisionTreeClassifier()\n",
      "Confusion matrix : \n",
      " [[ 66  34]\n",
      " [ 37 131]]\n",
      "Outcome values : \n",
      " 66 34 37 131\n",
      "Classification report : \n",
      "               precision    recall  f1-score   support\n",
      "\n",
      "           1       0.64      0.66      0.65       100\n",
      "           0       0.79      0.78      0.79       168\n",
      "\n",
      "    accuracy                           0.74       268\n",
      "   macro avg       0.72      0.72      0.72       268\n",
      "weighted avg       0.74      0.74      0.74       268\n",
      "\n",
      "Accuracy : 73.5 %\n",
      "Precision : 64.1 %\n",
      "Recall : 66.0 %\n",
      "F1 Score : 0.65\n",
      "Specificity or True Negative Rate : 78.0 %\n",
      "Balanced Accuracy : 72.0 %\n",
      "MCC : 0.437\n",
      "roc_auc_score: 0.72\n"
     ]
    },
    {
     "data": {
      "image/png": "[encoded data removed]",
      "text/plain": [
       "<Figure size 640x480 with 1 Axes>"
      ]
     },
     "metadata": {},
     "output_type": "display_data"
    },
    {
     "name": "stdout",
     "output_type": "stream",
     "text": [
      "-----------------------------------------------------------------------------------------------------\n",
      "Model Name:  RandomForestClassifier()\n",
      "Confusion matrix : \n",
      " [[ 68  32]\n",
      " [ 24 144]]\n",
      "Outcome values : \n",
      " 68 32 24 144\n",
      "Classification report : \n",
      "               precision    recall  f1-score   support\n",
      "\n",
      "           1       0.74      0.68      0.71       100\n",
      "           0       0.82      0.86      0.84       168\n",
      "\n",
      "    accuracy                           0.79       268\n",
      "   macro avg       0.78      0.77      0.77       268\n",
      "weighted avg       0.79      0.79      0.79       268\n",
      "\n",
      "Accuracy : 79.1 %\n",
      "Precision : 73.9 %\n",
      "Recall : 68.0 %\n",
      "F1 Score : 0.708\n",
      "Specificity or True Negative Rate : 85.7 %\n",
      "Balanced Accuracy : 76.8 %\n",
      "MCC : 0.547\n",
      "roc_auc_score: 0.769\n"
     ]
    },
    {
     "data": {
      "image/png": "[encoded data removed]",
      "text/plain": [
       "<Figure size 640x480 with 1 Axes>"
      ]
     },
     "metadata": {},
     "output_type": "display_data"
    },
    {
     "name": "stdout",
     "output_type": "stream",
     "text": [
      "-----------------------------------------------------------------------------------------------------\n",
      "Model Name:  ExtraTreesClassifier()\n",
      "Confusion matrix : \n",
      " [[ 66  34]\n",
      " [ 24 144]]\n",
      "Outcome values : \n",
      " 66 34 24 144\n",
      "Classification report : \n",
      "               precision    recall  f1-score   support\n",
      "\n",
      "           1       0.73      0.66      0.69       100\n",
      "           0       0.81      0.86      0.83       168\n",
      "\n",
      "    accuracy                           0.78       268\n",
      "   macro avg       0.77      0.76      0.76       268\n",
      "weighted avg       0.78      0.78      0.78       268\n",
      "\n",
      "Accuracy : 78.4 %\n",
      "Precision : 73.3 %\n",
      "Recall : 66.0 %\n",
      "F1 Score : 0.695\n",
      "Specificity or True Negative Rate : 85.7 %\n",
      "Balanced Accuracy : 75.8 %\n",
      "MCC : 0.53\n",
      "roc_auc_score: 0.759\n"
     ]
    },
    {
     "data": {
      "image/png": "[encoded data removed]",
      "text/plain": [
       "<Figure size 640x480 with 1 Axes>"
      ]
     },
     "metadata": {},
     "output_type": "display_data"
    },
    {
     "name": "stdout",
     "output_type": "stream",
     "text": [
      "-----------------------------------------------------------------------------------------------------\n",
      "Model Name:  KNeighborsClassifier()\n",
      "Confusion matrix : \n",
      " [[ 69  31]\n",
      " [ 47 121]]\n",
      "Outcome values : \n",
      " 69 31 47 121\n",
      "Classification report : \n",
      "               precision    recall  f1-score   support\n",
      "\n",
      "           1       0.59      0.69      0.64       100\n",
      "           0       0.80      0.72      0.76       168\n",
      "\n",
      "    accuracy                           0.71       268\n",
      "   macro avg       0.70      0.71      0.70       268\n",
      "weighted avg       0.72      0.71      0.71       268\n",
      "\n",
      "Accuracy : 70.9 %\n",
      "Precision : 59.5 %\n",
      "Recall : 69.0 %\n",
      "F1 Score : 0.639\n",
      "Specificity or True Negative Rate : 72.0 %\n",
      "Balanced Accuracy : 70.5 %\n",
      "MCC : 0.4\n",
      "roc_auc_score: 0.705\n"
     ]
    },
    {
     "data": {
      "image/png": "[encoded data removed]",
      "text/plain": [
       "<Figure size 640x480 with 1 Axes>"
      ]
     },
     "metadata": {},
     "output_type": "display_data"
    },
    {
     "name": "stdout",
     "output_type": "stream",
     "text": [
      "-----------------------------------------------------------------------------------------------------\n",
      "Model Name:  SVC(class_weight='balanced', probability=True, random_state=42)\n",
      "Confusion matrix : \n",
      " [[ 70  30]\n",
      " [ 23 145]]\n",
      "Outcome values : \n",
      " 70 30 23 145\n",
      "Classification report : \n",
      "               precision    recall  f1-score   support\n",
      "\n",
      "           1       0.75      0.70      0.73       100\n",
      "           0       0.83      0.86      0.85       168\n",
      "\n",
      "    accuracy                           0.80       268\n",
      "   macro avg       0.79      0.78      0.79       268\n",
      "weighted avg       0.80      0.80      0.80       268\n",
      "\n",
      "Accuracy : 80.2 %\n",
      "Precision : 75.3 %\n",
      "Recall : 70.0 %\n",
      "F1 Score : 0.725\n",
      "Specificity or True Negative Rate : 86.3 %\n",
      "Balanced Accuracy : 78.2 %\n",
      "MCC : 0.572\n",
      "roc_auc_score: 0.782\n"
     ]
    },
    {
     "data": {
      "image/png": "[encoded data removed]",
      "text/plain": [
       "<Figure size 640x480 with 1 Axes>"
      ]
     },
     "metadata": {},
     "output_type": "display_data"
    },
    {
     "name": "stdout",
     "output_type": "stream",
     "text": [
      "-----------------------------------------------------------------------------------------------------\n",
      "Model Name:  GaussianNB()\n",
      "Confusion matrix : \n",
      " [[ 71  29]\n",
      " [ 25 143]]\n",
      "Outcome values : \n",
      " 71 29 25 143\n",
      "Classification report : \n",
      "               precision    recall  f1-score   support\n",
      "\n",
      "           1       0.74      0.71      0.72       100\n",
      "           0       0.83      0.85      0.84       168\n",
      "\n",
      "    accuracy                           0.80       268\n",
      "   macro avg       0.79      0.78      0.78       268\n",
      "weighted avg       0.80      0.80      0.80       268\n",
      "\n",
      "Accuracy : 79.9 %\n",
      "Precision : 74.0 %\n",
      "Recall : 71.0 %\n",
      "F1 Score : 0.724\n",
      "Specificity or True Negative Rate : 85.1 %\n",
      "Balanced Accuracy : 78.0 %\n",
      "MCC : 0.566\n",
      "roc_auc_score: 0.781\n"
     ]
    },
    {
     "data": {
      "image/png": "[encoded data removed]",
      "text/plain": [
       "<Figure size 640x480 with 1 Axes>"
      ]
     },
     "metadata": {},
     "output_type": "display_data"
    },
    {
     "name": "stdout",
     "output_type": "stream",
     "text": [
      "-----------------------------------------------------------------------------------------------------\n"
     ]
    }
   ],
   "source": [
    "# Build the Calssification models and compare the results\n",
    "\n",
    "from sklearn.linear_model import LogisticRegression\n",
    "from sklearn.tree import DecisionTreeClassifier\n",
    "from sklearn.ensemble import RandomForestClassifier\n",
    "from sklearn.ensemble import ExtraTreesClassifier\n",
    "from sklearn.neighbors import KNeighborsClassifier\n",
    "from sklearn.svm import SVC\n",
    "from sklearn.naive_bayes import GaussianNB\n",
    "\n",
    "# Create objects of classification algorithm with default hyper-parameters\n",
    "\n",
    "ModelLR = LogisticRegression()\n",
    "ModelDC = DecisionTreeClassifier()\n",
    "ModelRF = RandomForestClassifier()\n",
    "ModelET = ExtraTreesClassifier()\n",
    "ModelKNN = KNeighborsClassifier(n_neighbors=5)\n",
    "ModelSVM = SVC(kernel='rbf', random_state = 42, class_weight='balanced', probability=True)\n",
    "ModelGNB = GaussianNB()\n",
    "\n",
    "# Evalution matrix for all the algorithms\n",
    "\n",
    "MM = [ModelLR, ModelDC, ModelRF, ModelET, ModelKNN, ModelSVM, ModelGNB]\n",
    "for models in MM:\n",
    "    \n",
    "    # Fit the model\n",
    "    \n",
    "    models.fit(x_train, y_train)\n",
    "    \n",
    "    # Prediction\n",
    "    \n",
    "    y_pred = models.predict(x_test)\n",
    "    y_pred_prob = models.predict_proba(x_test)\n",
    "    \n",
    "    # Print the model name\n",
    "    \n",
    "    print('Model Name: ', models)\n",
    "    \n",
    "    # confusion matrix in sklearn\n",
    "\n",
    "    from sklearn.metrics import confusion_matrix\n",
    "    from sklearn.metrics import classification_report\n",
    "\n",
    "    # actual values\n",
    "\n",
    "    actual = y_test\n",
    "\n",
    "    # predicted values\n",
    "\n",
    "    predicted = y_pred\n",
    "\n",
    "    # confusion matrix\n",
    "\n",
    "    matrix = confusion_matrix(actual,predicted, labels=[1,0],sample_weight=None, normalize=None)\n",
    "    print('Confusion matrix : \\n', matrix)\n",
    "\n",
    "    # outcome values order in sklearn\n",
    "\n",
    "    tp, fn, fp, tn = confusion_matrix(actual,predicted,labels=[1,0]).reshape(-1)\n",
    "    print('Outcome values : \\n', tp, fn, fp, tn)\n",
    "\n",
    "    # classification report for precision, recall f1-score and accuracy\n",
    "\n",
    "    C_Report = classification_report(actual,predicted,labels=[1,0])\n",
    "\n",
    "    print('Classification report : \\n', C_Report)\n",
    "\n",
    "    # calculating the metrics\n",
    "\n",
    "    sensitivity = round(tp/(tp+fn), 3);\n",
    "    specificity = round(tn/(tn+fp), 3);\n",
    "    accuracy = round((tp+tn)/(tp+fp+tn+fn), 3);\n",
    "    balanced_accuracy = round((sensitivity+specificity)/2, 3);\n",
    "    \n",
    "    precision = round(tp/(tp+fp), 3);\n",
    "    f1Score = round((2*tp/(2*tp + fp + fn)), 3);\n",
    "\n",
    "    # Matthews Correlation Coefficient (MCC). Range of values of MCC lie between -1 to +1. \n",
    "    # A model with a score of +1 is a perfect model and -1 is a poor model\n",
    "\n",
    "    from math import sqrt\n",
    "\n",
    "    mx = (tp+fp) * (tp+fn) * (tn+fp) * (tn+fn)\n",
    "    MCC = round(((tp * tn) - (fp * fn)) / sqrt(mx), 3)\n",
    "\n",
    "    print('Accuracy :', round(accuracy*100, 2),'%')\n",
    "    print('Precision :', round(precision*100, 2),'%')\n",
    "    print('Recall :', round(sensitivity*100,2), '%')\n",
    "    print('F1 Score :', f1Score)\n",
    "    print('Specificity or True Negative Rate :', round(specificity*100,2), '%'  )\n",
    "    print('Balanced Accuracy :', round(balanced_accuracy*100, 2),'%')\n",
    "    print('MCC :', MCC)\n",
    "\n",
    "    # Area under ROC curve \n",
    "\n",
    "    from sklearn.metrics import roc_curve, roc_auc_score\n",
    "\n",
    "    print('roc_auc_score:', round(roc_auc_score(actual, predicted), 3))\n",
    "    \n",
    "    # ROC Curve\n",
    "    \n",
    "    from sklearn.metrics import roc_auc_score\n",
    "    from sklearn.metrics import roc_curve\n",
    "    logit_roc_auc = roc_auc_score(actual, predicted)\n",
    "    fpr, tpr, thresholds = roc_curve(actual, models.predict_proba(x_test)[:,1])\n",
    "    plt.figure()\n",
    "    # plt.plot(fpr, tpr, label='Logistic Regression (area = %0.2f)' % logit_roc_auc)\n",
    "    plt.plot(fpr, tpr, label= 'Classification Model' % logit_roc_auc)\n",
    "    plt.plot([0, 1], [0, 1],'r--')\n",
    "    plt.xlim([0.0, 1.0])\n",
    "    plt.ylim([0.0, 1.05])\n",
    "    plt.xlabel('False Positive Rate')\n",
    "    plt.ylabel('True Positive Rate')\n",
    "    plt.title('Receiver operating characteristic')\n",
    "    plt.legend(loc=\"lower right\")\n",
    "    plt.savefig('Log_ROC')\n",
    "    plt.show()\n",
    "    print('-----------------------------------------------------------------------------------------------------')\n",
    "    #----------------------------------------------------------------------------------------------------------\n",
    "    new_row = {'Model Name' : models,\n",
    "               'True_Positive' : tp, \n",
    "               'False_Negative' : fn, \n",
    "               'False_Positive' : fp,\n",
    "               'True_Negative' : tn,\n",
    "               'Accuracy' : accuracy,\n",
    "               'Precision' : precision,\n",
    "               'Recall' : sensitivity,\n",
    "               'F1 Score' : f1Score,\n",
    "               'Specificity' : specificity,\n",
    "               'MCC':MCC,\n",
    "               'ROC_AUC_Score':roc_auc_score(actual, predicted),\n",
    "               'Balanced Accuracy':balanced_accuracy}\n",
    "    Result = Result.append(new_row, ignore_index=True)\n",
    "    #----------------------------------------------------------------------------------------------------------"
   ]
  },
  {
   "cell_type": "code",
   "execution_count": 101,
   "id": "ac8b80ac",
   "metadata": {},
   "outputs": [
    {
     "data": {
      "text/html": [
       "<div>\n",
       "<style scoped>\n",
       "    .dataframe tbody tr th:only-of-type {\n",
       "        vertical-align: middle;\n",
       "    }\n",
       "\n",
       "    .dataframe tbody tr th {\n",
       "        vertical-align: top;\n",
       "    }\n",
       "\n",
       "    .dataframe thead th {\n",
       "        text-align: right;\n",
       "    }\n",
       "</style>\n",
       "<table border=\"1\" class=\"dataframe\">\n",
       "  <thead>\n",
       "    <tr style=\"text-align: right;\">\n",
       "      <th></th>\n",
       "      <th>Model Name</th>\n",
       "      <th>True_Positive</th>\n",
       "      <th>False_Negative</th>\n",
       "      <th>False_Positive</th>\n",
       "      <th>True_Negative</th>\n",
       "      <th>Accuracy</th>\n",
       "      <th>Precision</th>\n",
       "      <th>Recall</th>\n",
       "      <th>F1 Score</th>\n",
       "      <th>Specificity</th>\n",
       "      <th>MCC</th>\n",
       "      <th>ROC_AUC_Score</th>\n",
       "      <th>Balanced Accuracy</th>\n",
       "    </tr>\n",
       "  </thead>\n",
       "  <tbody>\n",
       "    <tr>\n",
       "      <th>0</th>\n",
       "      <td>LogisticRegression()</td>\n",
       "      <td>67</td>\n",
       "      <td>33</td>\n",
       "      <td>21</td>\n",
       "      <td>147</td>\n",
       "      <td>0.799</td>\n",
       "      <td>0.761</td>\n",
       "      <td>0.67</td>\n",
       "      <td>0.713</td>\n",
       "      <td>0.875</td>\n",
       "      <td>0.561</td>\n",
       "      <td>0.772500</td>\n",
       "      <td>0.772</td>\n",
       "    </tr>\n",
       "    <tr>\n",
       "      <th>1</th>\n",
       "      <td>DecisionTreeClassifier()</td>\n",
       "      <td>66</td>\n",
       "      <td>34</td>\n",
       "      <td>37</td>\n",
       "      <td>131</td>\n",
       "      <td>0.735</td>\n",
       "      <td>0.641</td>\n",
       "      <td>0.66</td>\n",
       "      <td>0.650</td>\n",
       "      <td>0.780</td>\n",
       "      <td>0.437</td>\n",
       "      <td>0.719881</td>\n",
       "      <td>0.720</td>\n",
       "    </tr>\n",
       "    <tr>\n",
       "      <th>2</th>\n",
       "      <td>(DecisionTreeClassifier(max_features='auto', r...</td>\n",
       "      <td>68</td>\n",
       "      <td>32</td>\n",
       "      <td>24</td>\n",
       "      <td>144</td>\n",
       "      <td>0.791</td>\n",
       "      <td>0.739</td>\n",
       "      <td>0.68</td>\n",
       "      <td>0.708</td>\n",
       "      <td>0.857</td>\n",
       "      <td>0.547</td>\n",
       "      <td>0.768571</td>\n",
       "      <td>0.768</td>\n",
       "    </tr>\n",
       "    <tr>\n",
       "      <th>3</th>\n",
       "      <td>(ExtraTreeClassifier(random_state=2146430788),...</td>\n",
       "      <td>66</td>\n",
       "      <td>34</td>\n",
       "      <td>24</td>\n",
       "      <td>144</td>\n",
       "      <td>0.784</td>\n",
       "      <td>0.733</td>\n",
       "      <td>0.66</td>\n",
       "      <td>0.695</td>\n",
       "      <td>0.857</td>\n",
       "      <td>0.530</td>\n",
       "      <td>0.758571</td>\n",
       "      <td>0.758</td>\n",
       "    </tr>\n",
       "    <tr>\n",
       "      <th>4</th>\n",
       "      <td>KNeighborsClassifier()</td>\n",
       "      <td>69</td>\n",
       "      <td>31</td>\n",
       "      <td>47</td>\n",
       "      <td>121</td>\n",
       "      <td>0.709</td>\n",
       "      <td>0.595</td>\n",
       "      <td>0.69</td>\n",
       "      <td>0.639</td>\n",
       "      <td>0.720</td>\n",
       "      <td>0.400</td>\n",
       "      <td>0.705119</td>\n",
       "      <td>0.705</td>\n",
       "    </tr>\n",
       "    <tr>\n",
       "      <th>5</th>\n",
       "      <td>SVC(class_weight='balanced', probability=True,...</td>\n",
       "      <td>70</td>\n",
       "      <td>30</td>\n",
       "      <td>23</td>\n",
       "      <td>145</td>\n",
       "      <td>0.802</td>\n",
       "      <td>0.753</td>\n",
       "      <td>0.70</td>\n",
       "      <td>0.725</td>\n",
       "      <td>0.863</td>\n",
       "      <td>0.572</td>\n",
       "      <td>0.781548</td>\n",
       "      <td>0.782</td>\n",
       "    </tr>\n",
       "    <tr>\n",
       "      <th>6</th>\n",
       "      <td>GaussianNB()</td>\n",
       "      <td>71</td>\n",
       "      <td>29</td>\n",
       "      <td>25</td>\n",
       "      <td>143</td>\n",
       "      <td>0.799</td>\n",
       "      <td>0.740</td>\n",
       "      <td>0.71</td>\n",
       "      <td>0.724</td>\n",
       "      <td>0.851</td>\n",
       "      <td>0.566</td>\n",
       "      <td>0.780595</td>\n",
       "      <td>0.780</td>\n",
       "    </tr>\n",
       "  </tbody>\n",
       "</table>\n",
       "</div>"
      ],
      "text/plain": [
       "                                          Model Name True_Positive  \\\n",
       "0                               LogisticRegression()            67   \n",
       "1                           DecisionTreeClassifier()            66   \n",
       "2  (DecisionTreeClassifier(max_features='auto', r...            68   \n",
       "3  (ExtraTreeClassifier(random_state=2146430788),...            66   \n",
       "4                             KNeighborsClassifier()            69   \n",
       "5  SVC(class_weight='balanced', probability=True,...            70   \n",
       "6                                       GaussianNB()            71   \n",
       "\n",
       "  False_Negative False_Positive True_Negative  Accuracy  Precision  Recall  \\\n",
       "0             33             21           147     0.799      0.761    0.67   \n",
       "1             34             37           131     0.735      0.641    0.66   \n",
       "2             32             24           144     0.791      0.739    0.68   \n",
       "3             34             24           144     0.784      0.733    0.66   \n",
       "4             31             47           121     0.709      0.595    0.69   \n",
       "5             30             23           145     0.802      0.753    0.70   \n",
       "6             29             25           143     0.799      0.740    0.71   \n",
       "\n",
       "   F1 Score  Specificity    MCC  ROC_AUC_Score  Balanced Accuracy  \n",
       "0     0.713        0.875  0.561       0.772500              0.772  \n",
       "1     0.650        0.780  0.437       0.719881              0.720  \n",
       "2     0.708        0.857  0.547       0.768571              0.768  \n",
       "3     0.695        0.857  0.530       0.758571              0.758  \n",
       "4     0.639        0.720  0.400       0.705119              0.705  \n",
       "5     0.725        0.863  0.572       0.781548              0.782  \n",
       "6     0.724        0.851  0.566       0.780595              0.780  "
      ]
     },
     "execution_count": 101,
     "metadata": {},
     "output_type": "execute_result"
    }
   ],
   "source": [
    "Result"
   ]
  },
  {
   "cell_type": "markdown",
   "id": "c6c24e47",
   "metadata": {},
   "source": [
    "# Logistic Regression model"
   ]
  },
  {
   "cell_type": "code",
   "execution_count": 102,
   "id": "8c7f4a48",
   "metadata": {},
   "outputs": [
    {
     "data": {
      "text/plain": [
       "Pclass    0\n",
       "Sex       0\n",
       "Age       0\n",
       "SibSp     0\n",
       "Parch     0\n",
       "Fare      0\n",
       "dtype: int64"
      ]
     },
     "execution_count": 102,
     "metadata": {},
     "output_type": "execute_result"
    }
   ],
   "source": [
    "survive_test_data.isnull().sum()"
   ]
  },
  {
   "cell_type": "code",
   "execution_count": 108,
   "id": "e8b4dcce",
   "metadata": {},
   "outputs": [],
   "source": [
    "# prediction the model with the test dataset\n",
    "\n",
    "y_pred1=ModelLR.predict(survive_test_data)\n",
    "\n",
    "y_pred1=pd.DataFrame(y_pred1)"
   ]
  },
  {
   "cell_type": "code",
   "execution_count": 109,
   "id": "1f6be302",
   "metadata": {},
   "outputs": [
    {
     "data": {
      "text/html": [
       "<div>\n",
       "<style scoped>\n",
       "    .dataframe tbody tr th:only-of-type {\n",
       "        vertical-align: middle;\n",
       "    }\n",
       "\n",
       "    .dataframe tbody tr th {\n",
       "        vertical-align: top;\n",
       "    }\n",
       "\n",
       "    .dataframe thead th {\n",
       "        text-align: right;\n",
       "    }\n",
       "</style>\n",
       "<table border=\"1\" class=\"dataframe\">\n",
       "  <thead>\n",
       "    <tr style=\"text-align: right;\">\n",
       "      <th></th>\n",
       "      <th>Pclass</th>\n",
       "      <th>Sex</th>\n",
       "      <th>Age</th>\n",
       "      <th>SibSp</th>\n",
       "      <th>Parch</th>\n",
       "      <th>Fare</th>\n",
       "      <th>0</th>\n",
       "    </tr>\n",
       "  </thead>\n",
       "  <tbody>\n",
       "    <tr>\n",
       "      <th>28</th>\n",
       "      <td>1</td>\n",
       "      <td>1</td>\n",
       "      <td>41.0</td>\n",
       "      <td>0</td>\n",
       "      <td>0</td>\n",
       "      <td>30.50</td>\n",
       "      <td>0</td>\n",
       "    </tr>\n",
       "    <tr>\n",
       "      <th>227</th>\n",
       "      <td>3</td>\n",
       "      <td>0</td>\n",
       "      <td>21.0</td>\n",
       "      <td>0</td>\n",
       "      <td>0</td>\n",
       "      <td>7.75</td>\n",
       "      <td>0</td>\n",
       "    </tr>\n",
       "    <tr>\n",
       "      <th>257</th>\n",
       "      <td>3</td>\n",
       "      <td>1</td>\n",
       "      <td>28.0</td>\n",
       "      <td>0</td>\n",
       "      <td>0</td>\n",
       "      <td>8.05</td>\n",
       "      <td>0</td>\n",
       "    </tr>\n",
       "    <tr>\n",
       "      <th>162</th>\n",
       "      <td>2</td>\n",
       "      <td>0</td>\n",
       "      <td>26.0</td>\n",
       "      <td>0</td>\n",
       "      <td>0</td>\n",
       "      <td>13.50</td>\n",
       "      <td>0</td>\n",
       "    </tr>\n",
       "    <tr>\n",
       "      <th>50</th>\n",
       "      <td>1</td>\n",
       "      <td>1</td>\n",
       "      <td>24.0</td>\n",
       "      <td>1</td>\n",
       "      <td>0</td>\n",
       "      <td>60.00</td>\n",
       "      <td>0</td>\n",
       "    </tr>\n",
       "  </tbody>\n",
       "</table>\n",
       "</div>"
      ],
      "text/plain": [
       "     Pclass  Sex   Age  SibSp  Parch   Fare  0\n",
       "28        1    1  41.0      0      0  30.50  0\n",
       "227       3    0  21.0      0      0   7.75  0\n",
       "257       3    1  28.0      0      0   8.05  0\n",
       "162       2    0  26.0      0      0  13.50  0\n",
       "50        1    1  24.0      1      0  60.00  0"
      ]
     },
     "execution_count": 109,
     "metadata": {},
     "output_type": "execute_result"
    }
   ],
   "source": [
    "# Results1 = pd.DataFrame({'Cresit_Score_A':y_test, 'Credit_Score_P':y_pred1})\n",
    "\n",
    "# Merge two Dataframes on index of both the dataframes\n",
    "\n",
    "ResultsFinal = survive_test_data.merge(y_pred1, left_index=True, right_index=True)\n",
    "\n",
    "# Display 5 records randomly\n",
    "\n",
    "ResultsFinal.sample(5)"
   ]
  },
  {
   "cell_type": "code",
   "execution_count": 110,
   "id": "865229db",
   "metadata": {},
   "outputs": [],
   "source": [
    "ResultsFinal.rename(columns = {0:'Survived'}, inplace = True)"
   ]
  },
  {
   "cell_type": "code",
   "execution_count": 111,
   "id": "ca9bf250",
   "metadata": {},
   "outputs": [
    {
     "data": {
      "text/html": [
       "<div>\n",
       "<style scoped>\n",
       "    .dataframe tbody tr th:only-of-type {\n",
       "        vertical-align: middle;\n",
       "    }\n",
       "\n",
       "    .dataframe tbody tr th {\n",
       "        vertical-align: top;\n",
       "    }\n",
       "\n",
       "    .dataframe thead th {\n",
       "        text-align: right;\n",
       "    }\n",
       "</style>\n",
       "<table border=\"1\" class=\"dataframe\">\n",
       "  <thead>\n",
       "    <tr style=\"text-align: right;\">\n",
       "      <th></th>\n",
       "      <th>Pclass</th>\n",
       "      <th>Sex</th>\n",
       "      <th>Age</th>\n",
       "      <th>SibSp</th>\n",
       "      <th>Parch</th>\n",
       "      <th>Fare</th>\n",
       "      <th>Survived</th>\n",
       "    </tr>\n",
       "  </thead>\n",
       "  <tbody>\n",
       "    <tr>\n",
       "      <th>0</th>\n",
       "      <td>3</td>\n",
       "      <td>1</td>\n",
       "      <td>34.5</td>\n",
       "      <td>0</td>\n",
       "      <td>0</td>\n",
       "      <td>7.8292</td>\n",
       "      <td>0</td>\n",
       "    </tr>\n",
       "    <tr>\n",
       "      <th>1</th>\n",
       "      <td>3</td>\n",
       "      <td>0</td>\n",
       "      <td>47.0</td>\n",
       "      <td>1</td>\n",
       "      <td>0</td>\n",
       "      <td>7.0000</td>\n",
       "      <td>0</td>\n",
       "    </tr>\n",
       "    <tr>\n",
       "      <th>2</th>\n",
       "      <td>2</td>\n",
       "      <td>1</td>\n",
       "      <td>62.0</td>\n",
       "      <td>0</td>\n",
       "      <td>0</td>\n",
       "      <td>9.6875</td>\n",
       "      <td>0</td>\n",
       "    </tr>\n",
       "    <tr>\n",
       "      <th>3</th>\n",
       "      <td>3</td>\n",
       "      <td>1</td>\n",
       "      <td>27.0</td>\n",
       "      <td>0</td>\n",
       "      <td>0</td>\n",
       "      <td>8.6625</td>\n",
       "      <td>0</td>\n",
       "    </tr>\n",
       "    <tr>\n",
       "      <th>4</th>\n",
       "      <td>3</td>\n",
       "      <td>0</td>\n",
       "      <td>22.0</td>\n",
       "      <td>1</td>\n",
       "      <td>1</td>\n",
       "      <td>12.2875</td>\n",
       "      <td>0</td>\n",
       "    </tr>\n",
       "    <tr>\n",
       "      <th>...</th>\n",
       "      <td>...</td>\n",
       "      <td>...</td>\n",
       "      <td>...</td>\n",
       "      <td>...</td>\n",
       "      <td>...</td>\n",
       "      <td>...</td>\n",
       "      <td>...</td>\n",
       "    </tr>\n",
       "    <tr>\n",
       "      <th>413</th>\n",
       "      <td>3</td>\n",
       "      <td>1</td>\n",
       "      <td>21.0</td>\n",
       "      <td>0</td>\n",
       "      <td>0</td>\n",
       "      <td>8.0500</td>\n",
       "      <td>0</td>\n",
       "    </tr>\n",
       "    <tr>\n",
       "      <th>414</th>\n",
       "      <td>1</td>\n",
       "      <td>0</td>\n",
       "      <td>39.0</td>\n",
       "      <td>0</td>\n",
       "      <td>0</td>\n",
       "      <td>108.9000</td>\n",
       "      <td>0</td>\n",
       "    </tr>\n",
       "    <tr>\n",
       "      <th>415</th>\n",
       "      <td>3</td>\n",
       "      <td>1</td>\n",
       "      <td>38.5</td>\n",
       "      <td>0</td>\n",
       "      <td>0</td>\n",
       "      <td>7.2500</td>\n",
       "      <td>0</td>\n",
       "    </tr>\n",
       "    <tr>\n",
       "      <th>416</th>\n",
       "      <td>3</td>\n",
       "      <td>1</td>\n",
       "      <td>21.0</td>\n",
       "      <td>0</td>\n",
       "      <td>0</td>\n",
       "      <td>8.0500</td>\n",
       "      <td>0</td>\n",
       "    </tr>\n",
       "    <tr>\n",
       "      <th>417</th>\n",
       "      <td>3</td>\n",
       "      <td>1</td>\n",
       "      <td>21.0</td>\n",
       "      <td>1</td>\n",
       "      <td>1</td>\n",
       "      <td>22.3583</td>\n",
       "      <td>0</td>\n",
       "    </tr>\n",
       "  </tbody>\n",
       "</table>\n",
       "<p>418 rows × 7 columns</p>\n",
       "</div>"
      ],
      "text/plain": [
       "     Pclass  Sex   Age  SibSp  Parch      Fare  Survived\n",
       "0         3    1  34.5      0      0    7.8292         0\n",
       "1         3    0  47.0      1      0    7.0000         0\n",
       "2         2    1  62.0      0      0    9.6875         0\n",
       "3         3    1  27.0      0      0    8.6625         0\n",
       "4         3    0  22.0      1      1   12.2875         0\n",
       "..      ...  ...   ...    ...    ...       ...       ...\n",
       "413       3    1  21.0      0      0    8.0500         0\n",
       "414       1    0  39.0      0      0  108.9000         0\n",
       "415       3    1  38.5      0      0    7.2500         0\n",
       "416       3    1  21.0      0      0    8.0500         0\n",
       "417       3    1  21.0      1      1   22.3583         0\n",
       "\n",
       "[418 rows x 7 columns]"
      ]
     },
     "execution_count": 111,
     "metadata": {},
     "output_type": "execute_result"
    }
   ],
   "source": [
    "ResultsFinal"
   ]
  },
  {
   "cell_type": "code",
   "execution_count": 112,
   "id": "e2eaf51e",
   "metadata": {},
   "outputs": [
    {
     "data": {
      "text/plain": [
       "0    386\n",
       "1     32\n",
       "Name: Survived, dtype: int64"
      ]
     },
     "execution_count": 112,
     "metadata": {},
     "output_type": "execute_result"
    }
   ],
   "source": [
    "ResultsFinal['Survived'].value_counts()"
   ]
  },
  {
   "cell_type": "code",
   "execution_count": null,
   "id": "7e722361",
   "metadata": {},
   "outputs": [],
   "source": []
  },
  {
   "cell_type": "code",
   "execution_count": null,
   "id": "6c93aece",
   "metadata": {},
   "outputs": [],
   "source": []
  }
 ],
 "metadata": {
  "kernelspec": {
   "display_name": "Python 3 (ipykernel)",
   "language": "python",
   "name": "python3"
  },
  "language_info": {
   "codemirror_mode": {
    "name": "ipython",
    "version": 3
   },
   "file_extension": ".py",
   "mimetype": "text/x-python",
   "name": "python",
   "nbconvert_exporter": "python",
   "pygments_lexer": "ipython3",
   "version": "3.9.13"
  }
 },
 "nbformat": 4,
 "nbformat_minor": 5
}
