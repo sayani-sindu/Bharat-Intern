{
 "cells": [
  {
   "cell_type": "markdown",
   "id": "b54b7233",
   "metadata": {},
   "source": [
    "# STOCK PREDICTION\n",
    "\n",
    "SINDU SAYANI"
   ]
  },
  {
   "cell_type": "markdown",
   "id": "f1df01bb",
   "metadata": {},
   "source": [
    "Dataset: https://www.kaggle.com/datasets/abhishek14398/stock-prediction-dataset-adp"
   ]
  },
  {
   "cell_type": "markdown",
   "id": "efb8b3dc",
   "metadata": {},
   "source": [
    "It can be used to predict future pricing for a better investment."
   ]
  },
  {
   "cell_type": "code",
   "execution_count": 82,
   "id": "dff29482",
   "metadata": {},
   "outputs": [
    {
     "name": "stdout",
     "output_type": "stream",
     "text": [
      "Requirement already satisfied: keras in c:\\users\\ashiy\\anaconda3\\lib\\site-packages (2.14.0)\n",
      "Note: you may need to restart the kernel to use updated packages.\n"
     ]
    }
   ],
   "source": [
    "pip install keras"
   ]
  },
  {
   "cell_type": "code",
   "execution_count": 83,
   "id": "1260d8d4",
   "metadata": {},
   "outputs": [
    {
     "name": "stdout",
     "output_type": "stream",
     "text": [
      "Note: you may need to restart the kernel to use updated packages.\n"
     ]
    },
    {
     "name": "stderr",
     "output_type": "stream",
     "text": [
      "ERROR: pip's dependency resolver does not currently take into account all the packages that are installed. This behaviour is the source of the following dependency conflicts.\n",
      "daal4py 2021.5.0 requires daal==2021.4.0, which is not installed.\n",
      "scipy 1.7.3 requires numpy<1.23.0,>=1.16.5, but you have numpy 1.26.0 which is incompatible.\n",
      "numba 0.55.1 requires numpy<1.22,>=1.18, but you have numpy 1.26.0 which is incompatible.\n"
     ]
    },
    {
     "name": "stdout",
     "output_type": "stream",
     "text": [
      "Requirement already satisfied: tensorFlow in c:\\users\\ashiy\\anaconda3\\lib\\site-packages (2.14.0)\n",
      "Requirement already satisfied: tensorflow-intel==2.14.0 in c:\\users\\ashiy\\anaconda3\\lib\\site-packages (from tensorFlow) (2.14.0)\n",
      "Requirement already satisfied: termcolor>=1.1.0 in c:\\users\\ashiy\\anaconda3\\lib\\site-packages (from tensorflow-intel==2.14.0->tensorFlow) (2.3.0)\n",
      "Requirement already satisfied: absl-py>=1.0.0 in c:\\users\\ashiy\\anaconda3\\lib\\site-packages (from tensorflow-intel==2.14.0->tensorFlow) (2.0.0)\n",
      "Requirement already satisfied: grpcio<2.0,>=1.24.3 in c:\\users\\ashiy\\anaconda3\\lib\\site-packages (from tensorflow-intel==2.14.0->tensorFlow) (1.59.0)\n",
      "Requirement already satisfied: h5py>=2.9.0 in c:\\users\\ashiy\\anaconda3\\lib\\site-packages (from tensorflow-intel==2.14.0->tensorFlow) (3.6.0)\n",
      "Requirement already satisfied: flatbuffers>=23.5.26 in c:\\users\\ashiy\\anaconda3\\lib\\site-packages (from tensorflow-intel==2.14.0->tensorFlow) (23.5.26)\n",
      "Requirement already satisfied: typing-extensions>=3.6.6 in c:\\users\\ashiy\\anaconda3\\lib\\site-packages (from tensorflow-intel==2.14.0->tensorFlow) (4.1.1)\n",
      "Requirement already satisfied: protobuf!=4.21.0,!=4.21.1,!=4.21.2,!=4.21.3,!=4.21.4,!=4.21.5,<5.0.0dev,>=3.20.3 in c:\\users\\ashiy\\anaconda3\\lib\\site-packages (from tensorflow-intel==2.14.0->tensorFlow) (4.24.3)\n",
      "Requirement already satisfied: ml-dtypes==0.2.0 in c:\\users\\ashiy\\anaconda3\\lib\\site-packages (from tensorflow-intel==2.14.0->tensorFlow) (0.2.0)\n",
      "Requirement already satisfied: tensorboard<2.15,>=2.14 in c:\\users\\ashiy\\anaconda3\\lib\\site-packages (from tensorflow-intel==2.14.0->tensorFlow) (2.14.1)\n",
      "Requirement already satisfied: libclang>=13.0.0 in c:\\users\\ashiy\\anaconda3\\lib\\site-packages (from tensorflow-intel==2.14.0->tensorFlow) (16.0.6)\n",
      "Requirement already satisfied: opt-einsum>=2.3.2 in c:\\users\\ashiy\\anaconda3\\lib\\site-packages (from tensorflow-intel==2.14.0->tensorFlow) (3.3.0)\n",
      "Requirement already satisfied: gast!=0.5.0,!=0.5.1,!=0.5.2,>=0.2.1 in c:\\users\\ashiy\\anaconda3\\lib\\site-packages (from tensorflow-intel==2.14.0->tensorFlow) (0.5.4)\n",
      "Requirement already satisfied: keras<2.15,>=2.14.0 in c:\\users\\ashiy\\anaconda3\\lib\\site-packages (from tensorflow-intel==2.14.0->tensorFlow) (2.14.0)\n",
      "Requirement already satisfied: wrapt<1.15,>=1.11.0 in c:\\users\\ashiy\\anaconda3\\lib\\site-packages (from tensorflow-intel==2.14.0->tensorFlow) (1.12.1)\n",
      "Requirement already satisfied: google-pasta>=0.1.1 in c:\\users\\ashiy\\anaconda3\\lib\\site-packages (from tensorflow-intel==2.14.0->tensorFlow) (0.2.0)\n",
      "Requirement already satisfied: packaging in c:\\users\\ashiy\\anaconda3\\lib\\site-packages (from tensorflow-intel==2.14.0->tensorFlow) (21.3)\n",
      "Requirement already satisfied: setuptools in c:\\users\\ashiy\\anaconda3\\lib\\site-packages (from tensorflow-intel==2.14.0->tensorFlow) (61.2.0)\n",
      "Requirement already satisfied: tensorflow-io-gcs-filesystem>=0.23.1 in c:\\users\\ashiy\\anaconda3\\lib\\site-packages (from tensorflow-intel==2.14.0->tensorFlow) (0.31.0)\n",
      "Requirement already satisfied: six>=1.12.0 in c:\\users\\ashiy\\anaconda3\\lib\\site-packages (from tensorflow-intel==2.14.0->tensorFlow) (1.16.0)\n",
      "Requirement already satisfied: tensorflow-estimator<2.15,>=2.14.0 in c:\\users\\ashiy\\anaconda3\\lib\\site-packages (from tensorflow-intel==2.14.0->tensorFlow) (2.14.0)\n",
      "Requirement already satisfied: astunparse>=1.6.0 in c:\\users\\ashiy\\anaconda3\\lib\\site-packages (from tensorflow-intel==2.14.0->tensorFlow) (1.6.3)\n",
      "Collecting numpy>=1.23.5\n",
      "  Using cached numpy-1.26.0-cp39-cp39-win_amd64.whl (15.8 MB)\n",
      "Requirement already satisfied: wheel<1.0,>=0.23.0 in c:\\users\\ashiy\\anaconda3\\lib\\site-packages (from astunparse>=1.6.0->tensorflow-intel==2.14.0->tensorFlow) (0.37.1)\n",
      "Requirement already satisfied: markdown>=2.6.8 in c:\\users\\ashiy\\anaconda3\\lib\\site-packages (from tensorboard<2.15,>=2.14->tensorflow-intel==2.14.0->tensorFlow) (3.3.4)\n",
      "Requirement already satisfied: werkzeug>=1.0.1 in c:\\users\\ashiy\\anaconda3\\lib\\site-packages (from tensorboard<2.15,>=2.14->tensorflow-intel==2.14.0->tensorFlow) (2.0.3)\n",
      "Requirement already satisfied: tensorboard-data-server<0.8.0,>=0.7.0 in c:\\users\\ashiy\\anaconda3\\lib\\site-packages (from tensorboard<2.15,>=2.14->tensorflow-intel==2.14.0->tensorFlow) (0.7.1)\n",
      "Requirement already satisfied: google-auth-oauthlib<1.1,>=0.5 in c:\\users\\ashiy\\anaconda3\\lib\\site-packages (from tensorboard<2.15,>=2.14->tensorflow-intel==2.14.0->tensorFlow) (1.0.0)\n",
      "Requirement already satisfied: requests<3,>=2.21.0 in c:\\users\\ashiy\\anaconda3\\lib\\site-packages (from tensorboard<2.15,>=2.14->tensorflow-intel==2.14.0->tensorFlow) (2.27.1)\n",
      "Requirement already satisfied: google-auth<3,>=1.6.3 in c:\\users\\ashiy\\anaconda3\\lib\\site-packages (from tensorboard<2.15,>=2.14->tensorflow-intel==2.14.0->tensorFlow) (2.23.2)\n",
      "Requirement already satisfied: cachetools<6.0,>=2.0.0 in c:\\users\\ashiy\\anaconda3\\lib\\site-packages (from google-auth<3,>=1.6.3->tensorboard<2.15,>=2.14->tensorflow-intel==2.14.0->tensorFlow) (4.2.2)\n",
      "Requirement already satisfied: rsa<5,>=3.1.4 in c:\\users\\ashiy\\anaconda3\\lib\\site-packages (from google-auth<3,>=1.6.3->tensorboard<2.15,>=2.14->tensorflow-intel==2.14.0->tensorFlow) (4.7.2)\n",
      "Requirement already satisfied: pyasn1-modules>=0.2.1 in c:\\users\\ashiy\\anaconda3\\lib\\site-packages (from google-auth<3,>=1.6.3->tensorboard<2.15,>=2.14->tensorflow-intel==2.14.0->tensorFlow) (0.2.8)\n",
      "Requirement already satisfied: requests-oauthlib>=0.7.0 in c:\\users\\ashiy\\anaconda3\\lib\\site-packages (from google-auth-oauthlib<1.1,>=0.5->tensorboard<2.15,>=2.14->tensorflow-intel==2.14.0->tensorFlow) (1.3.1)\n",
      "Requirement already satisfied: pyasn1<0.5.0,>=0.4.6 in c:\\users\\ashiy\\anaconda3\\lib\\site-packages (from pyasn1-modules>=0.2.1->google-auth<3,>=1.6.3->tensorboard<2.15,>=2.14->tensorflow-intel==2.14.0->tensorFlow) (0.4.8)\n",
      "Requirement already satisfied: certifi>=2017.4.17 in c:\\users\\ashiy\\anaconda3\\lib\\site-packages (from requests<3,>=2.21.0->tensorboard<2.15,>=2.14->tensorflow-intel==2.14.0->tensorFlow) (2021.10.8)\n",
      "Requirement already satisfied: idna<4,>=2.5 in c:\\users\\ashiy\\anaconda3\\lib\\site-packages (from requests<3,>=2.21.0->tensorboard<2.15,>=2.14->tensorflow-intel==2.14.0->tensorFlow) (3.3)\n",
      "Requirement already satisfied: urllib3<1.27,>=1.21.1 in c:\\users\\ashiy\\anaconda3\\lib\\site-packages (from requests<3,>=2.21.0->tensorboard<2.15,>=2.14->tensorflow-intel==2.14.0->tensorFlow) (1.26.9)\n",
      "Requirement already satisfied: charset-normalizer~=2.0.0 in c:\\users\\ashiy\\anaconda3\\lib\\site-packages (from requests<3,>=2.21.0->tensorboard<2.15,>=2.14->tensorflow-intel==2.14.0->tensorFlow) (2.0.4)\n",
      "Requirement already satisfied: oauthlib>=3.0.0 in c:\\users\\ashiy\\anaconda3\\lib\\site-packages (from requests-oauthlib>=0.7.0->google-auth-oauthlib<1.1,>=0.5->tensorboard<2.15,>=2.14->tensorflow-intel==2.14.0->tensorFlow) (3.2.2)\n",
      "Requirement already satisfied: pyparsing!=3.0.5,>=2.0.2 in c:\\users\\ashiy\\anaconda3\\lib\\site-packages (from packaging->tensorflow-intel==2.14.0->tensorFlow) (3.0.4)\n",
      "Installing collected packages: numpy\n",
      "  Attempting uninstall: numpy\n",
      "    Found existing installation: numpy 1.22.4\n",
      "    Uninstalling numpy-1.22.4:\n",
      "      Successfully uninstalled numpy-1.22.4\n",
      "Successfully installed numpy-1.26.0\n"
     ]
    }
   ],
   "source": [
    "pip install tensorFlow"
   ]
  },
  {
   "cell_type": "code",
   "execution_count": 84,
   "id": "deb293d4",
   "metadata": {},
   "outputs": [
    {
     "name": "stdout",
     "output_type": "stream",
     "text": [
      "Requirement already satisfied: keras in c:\\users\\ashiy\\anaconda3\\lib\\site-packages (2.14.0)\n",
      "Note: you may need to restart the kernel to use updated packages.\n"
     ]
    }
   ],
   "source": [
    "pip install keras"
   ]
  },
  {
   "cell_type": "code",
   "execution_count": 85,
   "id": "9907cd42",
   "metadata": {},
   "outputs": [
    {
     "name": "stdout",
     "output_type": "stream",
     "text": [
      "Note: you may need to restart the kernel to use updated packages.\n"
     ]
    },
    {
     "name": "stderr",
     "output_type": "stream",
     "text": [
      "ERROR: Could not find a version that satisfies the requirement keras.wrappers.scikit_learn (from versions: none)\n",
      "ERROR: No matching distribution found for keras.wrappers.scikit_learn\n"
     ]
    }
   ],
   "source": [
    "pip install keras.wrappers.scikit_learn"
   ]
  },
  {
   "cell_type": "code",
   "execution_count": 86,
   "id": "7ea3eed9",
   "metadata": {},
   "outputs": [],
   "source": [
    "# Importing the libraries \n",
    "\n",
    "import pandas as pd\n",
    "import numpy as np \n",
    "import matplotlib.pyplot as plt \n",
    "import seaborn as sns\n",
    "%matplotlib inline\n",
    "import keras\n",
    "# Ignore harmless warnings \n",
    "\n",
    "import warnings \n",
    "warnings.filterwarnings(\"ignore\")\n",
    "\n",
    "# Set to display all the columns in dataset\n",
    "\n",
    "pd.set_option(\"display.max_columns\", None)\n",
    "\n",
    "# Import psql to run queries \n",
    "\n",
    "import pandasql as psql"
   ]
  },
  {
   "cell_type": "code",
   "execution_count": 87,
   "id": "264af164",
   "metadata": {},
   "outputs": [
    {
     "data": {
      "text/html": [
       "<div>\n",
       "<style scoped>\n",
       "    .dataframe tbody tr th:only-of-type {\n",
       "        vertical-align: middle;\n",
       "    }\n",
       "\n",
       "    .dataframe tbody tr th {\n",
       "        vertical-align: top;\n",
       "    }\n",
       "\n",
       "    .dataframe thead th {\n",
       "        text-align: right;\n",
       "    }\n",
       "</style>\n",
       "<table border=\"1\" class=\"dataframe\">\n",
       "  <thead>\n",
       "    <tr style=\"text-align: right;\">\n",
       "      <th></th>\n",
       "      <th>Date</th>\n",
       "      <th>Open</th>\n",
       "      <th>High</th>\n",
       "      <th>Low</th>\n",
       "      <th>Close</th>\n",
       "      <th>Volume</th>\n",
       "    </tr>\n",
       "  </thead>\n",
       "  <tbody>\n",
       "    <tr>\n",
       "      <th>0</th>\n",
       "      <td>1/3/2012</td>\n",
       "      <td>325.25</td>\n",
       "      <td>332.83</td>\n",
       "      <td>324.97</td>\n",
       "      <td>663.59</td>\n",
       "      <td>7,380,500</td>\n",
       "    </tr>\n",
       "    <tr>\n",
       "      <th>1</th>\n",
       "      <td>1/4/2012</td>\n",
       "      <td>331.27</td>\n",
       "      <td>333.87</td>\n",
       "      <td>329.08</td>\n",
       "      <td>666.45</td>\n",
       "      <td>5,749,400</td>\n",
       "    </tr>\n",
       "    <tr>\n",
       "      <th>2</th>\n",
       "      <td>1/5/2012</td>\n",
       "      <td>329.83</td>\n",
       "      <td>330.75</td>\n",
       "      <td>326.89</td>\n",
       "      <td>657.21</td>\n",
       "      <td>6,590,300</td>\n",
       "    </tr>\n",
       "    <tr>\n",
       "      <th>3</th>\n",
       "      <td>1/6/2012</td>\n",
       "      <td>328.34</td>\n",
       "      <td>328.77</td>\n",
       "      <td>323.68</td>\n",
       "      <td>648.24</td>\n",
       "      <td>5,405,900</td>\n",
       "    </tr>\n",
       "    <tr>\n",
       "      <th>4</th>\n",
       "      <td>1/9/2012</td>\n",
       "      <td>322.04</td>\n",
       "      <td>322.29</td>\n",
       "      <td>309.46</td>\n",
       "      <td>620.76</td>\n",
       "      <td>11,688,800</td>\n",
       "    </tr>\n",
       "  </tbody>\n",
       "</table>\n",
       "</div>"
      ],
      "text/plain": [
       "       Date    Open    High     Low   Close      Volume\n",
       "0  1/3/2012  325.25  332.83  324.97  663.59   7,380,500\n",
       "1  1/4/2012  331.27  333.87  329.08  666.45   5,749,400\n",
       "2  1/5/2012  329.83  330.75  326.89  657.21   6,590,300\n",
       "3  1/6/2012  328.34  328.77  323.68  648.24   5,405,900\n",
       "4  1/9/2012  322.04  322.29  309.46  620.76  11,688,800"
      ]
     },
     "execution_count": 87,
     "metadata": {},
     "output_type": "execute_result"
    }
   ],
   "source": [
    "# Load the train dataset\n",
    "\n",
    "train= pd.read_csv(r\"C:\\Users\\ashiy\\Downloads\\Price_Train.csv\", header=0)\n",
    "test=pd.read_csv(r\"C:\\Users\\ashiy\\Downloads\\Price_Test.csv\",header=0)\n",
    "\n",
    "# Copy to back-up file\n",
    "\n",
    "train_backup = train.copy()\n",
    "\n",
    "# Display first 5 records of train dataset\n",
    "\n",
    "train.head()"
   ]
  },
  {
   "cell_type": "markdown",
   "id": "da8afa66",
   "metadata": {},
   "source": [
    "# Data Cleaning"
   ]
  },
  {
   "cell_type": "code",
   "execution_count": 88,
   "id": "4f762a26",
   "metadata": {},
   "outputs": [
    {
     "data": {
      "text/plain": [
       "Date      1258\n",
       "Open      1215\n",
       "High      1219\n",
       "Low       1223\n",
       "Close     1241\n",
       "Volume    1240\n",
       "dtype: int64"
      ]
     },
     "execution_count": 88,
     "metadata": {},
     "output_type": "execute_result"
    }
   ],
   "source": [
    "train.nunique()"
   ]
  },
  {
   "cell_type": "code",
   "execution_count": 89,
   "id": "1d0dab41",
   "metadata": {},
   "outputs": [
    {
     "name": "stdout",
     "output_type": "stream",
     "text": [
      "<class 'pandas.core.frame.DataFrame'>\n",
      "RangeIndex: 1258 entries, 0 to 1257\n",
      "Data columns (total 6 columns):\n",
      " #   Column  Non-Null Count  Dtype  \n",
      "---  ------  --------------  -----  \n",
      " 0   Date    1258 non-null   object \n",
      " 1   Open    1258 non-null   float64\n",
      " 2   High    1258 non-null   float64\n",
      " 3   Low     1258 non-null   float64\n",
      " 4   Close   1258 non-null   object \n",
      " 5   Volume  1258 non-null   object \n",
      "dtypes: float64(3), object(3)\n",
      "memory usage: 59.1+ KB\n"
     ]
    }
   ],
   "source": [
    "train.info()"
   ]
  },
  {
   "cell_type": "code",
   "execution_count": 90,
   "id": "36aa3fca",
   "metadata": {},
   "outputs": [
    {
     "data": {
      "text/plain": [
       "Date      0\n",
       "Open      0\n",
       "High      0\n",
       "Low       0\n",
       "Close     0\n",
       "Volume    0\n",
       "dtype: int64"
      ]
     },
     "execution_count": 90,
     "metadata": {},
     "output_type": "execute_result"
    }
   ],
   "source": [
    "train.isnull().sum()"
   ]
  },
  {
   "cell_type": "code",
   "execution_count": 91,
   "id": "f4dfe654",
   "metadata": {},
   "outputs": [
    {
     "data": {
      "text/plain": [
       "False"
      ]
     },
     "execution_count": 91,
     "metadata": {},
     "output_type": "execute_result"
    }
   ],
   "source": [
    "train.duplicated().any()"
   ]
  },
  {
   "cell_type": "code",
   "execution_count": null,
   "id": "e6f5a36d",
   "metadata": {},
   "outputs": [],
   "source": []
  },
  {
   "cell_type": "markdown",
   "id": "0a53aea3",
   "metadata": {},
   "source": [
    "There are no duplicates and null values "
   ]
  },
  {
   "cell_type": "markdown",
   "id": "ce64258b",
   "metadata": {},
   "source": [
    "# Data Preprocessing"
   ]
  },
  {
   "cell_type": "code",
   "execution_count": 92,
   "id": "058fa227",
   "metadata": {},
   "outputs": [],
   "source": [
    "del train[\"Date\"]"
   ]
  },
  {
   "cell_type": "code",
   "execution_count": 93,
   "id": "552abb70",
   "metadata": {},
   "outputs": [
    {
     "name": "stdout",
     "output_type": "stream",
     "text": [
      "<class 'pandas.core.frame.DataFrame'>\n",
      "RangeIndex: 1258 entries, 0 to 1257\n",
      "Data columns (total 5 columns):\n",
      " #   Column  Non-Null Count  Dtype  \n",
      "---  ------  --------------  -----  \n",
      " 0   Open    1258 non-null   float64\n",
      " 1   High    1258 non-null   float64\n",
      " 2   Low     1258 non-null   float64\n",
      " 3   Close   1258 non-null   object \n",
      " 4   Volume  1258 non-null   object \n",
      "dtypes: float64(3), object(2)\n",
      "memory usage: 49.3+ KB\n"
     ]
    }
   ],
   "source": [
    "train.info()"
   ]
  },
  {
   "cell_type": "code",
   "execution_count": 94,
   "id": "080adfab",
   "metadata": {},
   "outputs": [],
   "source": [
    "#taking open price from data in 2d array , if we will do train.loc[:, 'open'].values it gives one d array which wont\n",
    "#be considered in scaling\n",
    "train_open= train.iloc[:, 1:2].values"
   ]
  },
  {
   "cell_type": "code",
   "execution_count": 95,
   "id": "307ec015",
   "metadata": {},
   "outputs": [],
   "source": [
    "#Scaling the values between 0 to 1\n",
    "from sklearn.preprocessing import MinMaxScaler\n",
    "ss= MinMaxScaler(feature_range=(0,1))\n",
    "train_open_scaled= ss.fit_transform(train_open)\n"
   ]
  },
  {
   "cell_type": "code",
   "execution_count": 96,
   "id": "b1f11be3",
   "metadata": {},
   "outputs": [
    {
     "data": {
      "text/plain": [
       "array([0.08564439])"
      ]
     },
     "execution_count": 96,
     "metadata": {},
     "output_type": "execute_result"
    }
   ],
   "source": [
    "train_open_scaled[60]\n"
   ]
  },
  {
   "cell_type": "markdown",
   "id": "9b7338bf",
   "metadata": {},
   "source": [
    "Below we will be taking previous 60 days open datasteps to predict the next values so we are converting the data as per our input in LTSM layers. i.e for taking 0 to 59 days open price to get 60th day price as output, 1 to 60 for 61, 2 to 61 for 62"
   ]
  },
  {
   "cell_type": "code",
   "execution_count": 97,
   "id": "99a04211",
   "metadata": {},
   "outputs": [],
   "source": [
    "# Feature selection\n",
    "xtrain=[]\n",
    "ytrain=[]\n",
    "for i in range(60,len(train_open_scaled)):\n",
    "    xtrain.append(train_open_scaled[i-60:i,0])\n",
    "    ytrain.append(train_open_scaled[i,0])\n",
    "\n",
    "xtrain, ytrain = np.array(xtrain), np.array(ytrain)"
   ]
  },
  {
   "cell_type": "code",
   "execution_count": 98,
   "id": "0252bfa9",
   "metadata": {},
   "outputs": [],
   "source": [
    "#Reshaping the train data to make it as input for LTSM layer input_shape(batchzise,timesteps,input_dim)\n",
    "xtrain= np.reshape(xtrain,(xtrain.shape[0],xtrain.shape[1],1))"
   ]
  },
  {
   "cell_type": "code",
   "execution_count": 99,
   "id": "a63a5226",
   "metadata": {},
   "outputs": [
    {
     "data": {
      "text/plain": [
       "(1198, 60, 1)"
      ]
     },
     "execution_count": 99,
     "metadata": {},
     "output_type": "execute_result"
    }
   ],
   "source": [
    "xtrain.shape"
   ]
  },
  {
   "cell_type": "markdown",
   "id": "83fdee7f",
   "metadata": {},
   "source": [
    "# Building the LSTM Network"
   ]
  },
  {
   "cell_type": "code",
   "execution_count": 100,
   "id": "d5b58c61",
   "metadata": {},
   "outputs": [],
   "source": [
    "from keras.models import Sequential\n",
    "from keras.layers import LSTM\n",
    "from keras.layers import Dense\n",
    "from keras.layers import Dropout"
   ]
  },
  {
   "cell_type": "code",
   "execution_count": 101,
   "id": "2c535e65",
   "metadata": {},
   "outputs": [
    {
     "name": "stdout",
     "output_type": "stream",
     "text": [
      "Epoch 1/100\n",
      "40/40 [==============================] - 11s 69ms/step - loss: 0.0440\n",
      "Epoch 2/100\n",
      "40/40 [==============================] - 3s 70ms/step - loss: 0.0069\n",
      "Epoch 3/100\n",
      "40/40 [==============================] - 3s 73ms/step - loss: 0.0050\n",
      "Epoch 4/100\n",
      "40/40 [==============================] - 3s 70ms/step - loss: 0.0048\n",
      "Epoch 5/100\n",
      "40/40 [==============================] - 3s 69ms/step - loss: 0.0055\n",
      "Epoch 6/100\n",
      "40/40 [==============================] - 3s 70ms/step - loss: 0.0047\n",
      "Epoch 7/100\n",
      "40/40 [==============================] - 3s 69ms/step - loss: 0.0048\n",
      "Epoch 8/100\n",
      "40/40 [==============================] - 3s 70ms/step - loss: 0.0057\n",
      "Epoch 9/100\n",
      "40/40 [==============================] - 3s 70ms/step - loss: 0.0045\n",
      "Epoch 10/100\n",
      "40/40 [==============================] - 3s 68ms/step - loss: 0.0040\n",
      "Epoch 11/100\n",
      "40/40 [==============================] - 3s 70ms/step - loss: 0.0039\n",
      "Epoch 12/100\n",
      "40/40 [==============================] - 3s 70ms/step - loss: 0.0039\n",
      "Epoch 13/100\n",
      "40/40 [==============================] - 3s 70ms/step - loss: 0.0042\n",
      "Epoch 14/100\n",
      "40/40 [==============================] - 3s 71ms/step - loss: 0.0045\n",
      "Epoch 15/100\n",
      "40/40 [==============================] - 3s 83ms/step - loss: 0.0039\n",
      "Epoch 16/100\n",
      "40/40 [==============================] - 3s 86ms/step - loss: 0.0036\n",
      "Epoch 17/100\n",
      "40/40 [==============================] - 4s 88ms/step - loss: 0.0035\n",
      "Epoch 18/100\n",
      "40/40 [==============================] - 3s 86ms/step - loss: 0.0036\n",
      "Epoch 19/100\n",
      "40/40 [==============================] - 3s 86ms/step - loss: 0.0034\n",
      "Epoch 20/100\n",
      "40/40 [==============================] - 4s 88ms/step - loss: 0.0031\n",
      "Epoch 21/100\n",
      "40/40 [==============================] - 4s 90ms/step - loss: 0.0032\n",
      "Epoch 22/100\n",
      "40/40 [==============================] - 4s 89ms/step - loss: 0.0034\n",
      "Epoch 23/100\n",
      "40/40 [==============================] - 4s 97ms/step - loss: 0.0032\n",
      "Epoch 24/100\n",
      "40/40 [==============================] - 4s 92ms/step - loss: 0.0032\n",
      "Epoch 25/100\n",
      "40/40 [==============================] - 4s 94ms/step - loss: 0.0031\n",
      "Epoch 26/100\n",
      "40/40 [==============================] - 4s 96ms/step - loss: 0.0031\n",
      "Epoch 27/100\n",
      "40/40 [==============================] - 4s 98ms/step - loss: 0.0033\n",
      "Epoch 28/100\n",
      "40/40 [==============================] - 4s 98ms/step - loss: 0.0036\n",
      "Epoch 29/100\n",
      "40/40 [==============================] - 4s 97ms/step - loss: 0.0032\n",
      "Epoch 30/100\n",
      "40/40 [==============================] - 4s 98ms/step - loss: 0.0030\n",
      "Epoch 31/100\n",
      "40/40 [==============================] - 4s 102ms/step - loss: 0.0031\n",
      "Epoch 32/100\n",
      "40/40 [==============================] - 4s 103ms/step - loss: 0.0027\n",
      "Epoch 33/100\n",
      "40/40 [==============================] - 4s 105ms/step - loss: 0.0026\n",
      "Epoch 34/100\n",
      "40/40 [==============================] - 4s 105ms/step - loss: 0.0026\n",
      "Epoch 35/100\n",
      "40/40 [==============================] - 4s 107ms/step - loss: 0.0027\n",
      "Epoch 36/100\n",
      "40/40 [==============================] - 4s 107ms/step - loss: 0.0028\n",
      "Epoch 37/100\n",
      "40/40 [==============================] - 4s 107ms/step - loss: 0.0027\n",
      "Epoch 38/100\n",
      "40/40 [==============================] - 4s 109ms/step - loss: 0.0026\n",
      "Epoch 39/100\n",
      "40/40 [==============================] - 4s 109ms/step - loss: 0.0028\n",
      "Epoch 40/100\n",
      "40/40 [==============================] - 4s 110ms/step - loss: 0.0027\n",
      "Epoch 41/100\n",
      "40/40 [==============================] - 4s 111ms/step - loss: 0.0028\n",
      "Epoch 42/100\n",
      "40/40 [==============================] - 4s 110ms/step - loss: 0.0025\n",
      "Epoch 43/100\n",
      "40/40 [==============================] - 4s 112ms/step - loss: 0.0023\n",
      "Epoch 44/100\n",
      "40/40 [==============================] - 4s 110ms/step - loss: 0.0024\n",
      "Epoch 45/100\n",
      "40/40 [==============================] - 4s 110ms/step - loss: 0.0026\n",
      "Epoch 46/100\n",
      "40/40 [==============================] - 4s 111ms/step - loss: 0.0025\n",
      "Epoch 47/100\n",
      "40/40 [==============================] - 5s 113ms/step - loss: 0.0025\n",
      "Epoch 48/100\n",
      "40/40 [==============================] - 4s 111ms/step - loss: 0.0024\n",
      "Epoch 49/100\n",
      "40/40 [==============================] - 4s 110ms/step - loss: 0.0023\n",
      "Epoch 50/100\n",
      "40/40 [==============================] - 4s 110ms/step - loss: 0.0022\n",
      "Epoch 51/100\n",
      "40/40 [==============================] - 4s 110ms/step - loss: 0.0027\n",
      "Epoch 52/100\n",
      "40/40 [==============================] - 4s 111ms/step - loss: 0.0026\n",
      "Epoch 53/100\n",
      "40/40 [==============================] - 4s 110ms/step - loss: 0.0022\n",
      "Epoch 54/100\n",
      "40/40 [==============================] - 4s 110ms/step - loss: 0.0023\n",
      "Epoch 55/100\n",
      "40/40 [==============================] - 4s 110ms/step - loss: 0.0021\n",
      "Epoch 56/100\n",
      "40/40 [==============================] - 4s 110ms/step - loss: 0.0021\n",
      "Epoch 57/100\n",
      "40/40 [==============================] - 4s 110ms/step - loss: 0.0022\n",
      "Epoch 58/100\n",
      "40/40 [==============================] - 4s 110ms/step - loss: 0.0023\n",
      "Epoch 59/100\n",
      "40/40 [==============================] - 4s 110ms/step - loss: 0.0019\n",
      "Epoch 60/100\n",
      "40/40 [==============================] - 4s 112ms/step - loss: 0.0019\n",
      "Epoch 61/100\n",
      "40/40 [==============================] - 4s 112ms/step - loss: 0.0020\n",
      "Epoch 62/100\n",
      "40/40 [==============================] - 4s 109ms/step - loss: 0.0019\n",
      "Epoch 63/100\n",
      "40/40 [==============================] - 4s 106ms/step - loss: 0.0019\n",
      "Epoch 64/100\n",
      "40/40 [==============================] - 4s 106ms/step - loss: 0.0022\n",
      "Epoch 65/100\n",
      "40/40 [==============================] - 4s 112ms/step - loss: 0.0023\n",
      "Epoch 66/100\n",
      "40/40 [==============================] - 4s 110ms/step - loss: 0.0018\n",
      "Epoch 67/100\n",
      "40/40 [==============================] - 4s 111ms/step - loss: 0.0017\n",
      "Epoch 68/100\n",
      "40/40 [==============================] - 4s 112ms/step - loss: 0.0018\n",
      "Epoch 69/100\n",
      "40/40 [==============================] - 4s 110ms/step - loss: 0.0020\n",
      "Epoch 70/100\n",
      "40/40 [==============================] - 4s 111ms/step - loss: 0.0018\n",
      "Epoch 71/100\n",
      "40/40 [==============================] - 4s 110ms/step - loss: 0.0017\n",
      "Epoch 72/100\n",
      "40/40 [==============================] - 4s 111ms/step - loss: 0.0018\n",
      "Epoch 73/100\n",
      "40/40 [==============================] - 4s 113ms/step - loss: 0.0016\n",
      "Epoch 74/100\n",
      "40/40 [==============================] - 4s 109ms/step - loss: 0.0016\n",
      "Epoch 75/100\n",
      "40/40 [==============================] - 4s 110ms/step - loss: 0.0016\n",
      "Epoch 76/100\n",
      "40/40 [==============================] - 4s 111ms/step - loss: 0.0015\n",
      "Epoch 77/100\n",
      "40/40 [==============================] - 4s 112ms/step - loss: 0.0018\n",
      "Epoch 78/100\n",
      "40/40 [==============================] - 4s 111ms/step - loss: 0.0017\n",
      "Epoch 79/100\n",
      "40/40 [==============================] - 5s 116ms/step - loss: 0.0015\n",
      "Epoch 80/100\n",
      "40/40 [==============================] - 5s 123ms/step - loss: 0.0016\n",
      "Epoch 81/100\n",
      "40/40 [==============================] - 5s 113ms/step - loss: 0.0016\n",
      "Epoch 82/100\n",
      "40/40 [==============================] - 5s 125ms/step - loss: 0.0016\n",
      "Epoch 83/100\n",
      "40/40 [==============================] - 5s 130ms/step - loss: 0.0018\n",
      "Epoch 84/100\n",
      "40/40 [==============================] - 5s 115ms/step - loss: 0.0016\n",
      "Epoch 85/100\n",
      "40/40 [==============================] - 4s 111ms/step - loss: 0.0015\n",
      "Epoch 86/100\n",
      "40/40 [==============================] - 4s 112ms/step - loss: 0.0015\n",
      "Epoch 87/100\n",
      "40/40 [==============================] - 4s 111ms/step - loss: 0.0016\n",
      "Epoch 88/100\n",
      "40/40 [==============================] - 4s 111ms/step - loss: 0.0017\n",
      "Epoch 89/100\n",
      "40/40 [==============================] - 4s 109ms/step - loss: 0.0015\n",
      "Epoch 90/100\n",
      "40/40 [==============================] - 5s 115ms/step - loss: 0.0015\n",
      "Epoch 91/100\n",
      "40/40 [==============================] - 5s 125ms/step - loss: 0.0015\n",
      "Epoch 92/100\n",
      "40/40 [==============================] - 4s 110ms/step - loss: 0.0017\n",
      "Epoch 93/100\n",
      "40/40 [==============================] - 4s 99ms/step - loss: 0.0016\n",
      "Epoch 94/100\n",
      "40/40 [==============================] - 3s 85ms/step - loss: 0.0015\n",
      "Epoch 95/100\n",
      "40/40 [==============================] - 3s 85ms/step - loss: 0.0013\n",
      "Epoch 96/100\n",
      "40/40 [==============================] - 3s 84ms/step - loss: 0.0016\n",
      "Epoch 97/100\n",
      "40/40 [==============================] - 3s 85ms/step - loss: 0.0013\n",
      "Epoch 98/100\n",
      "40/40 [==============================] - 3s 87ms/step - loss: 0.0015\n",
      "Epoch 99/100\n",
      "40/40 [==============================] - 4s 99ms/step - loss: 0.0015\n",
      "Epoch 100/100\n",
      "40/40 [==============================] - 4s 109ms/step - loss: 0.0015\n"
     ]
    },
    {
     "data": {
      "text/plain": [
       "<keras.src.callbacks.History at 0x225349129a0>"
      ]
     },
     "execution_count": 101,
     "metadata": {},
     "output_type": "execute_result"
    }
   ],
   "source": [
    "#initialisizng the model \n",
    "regression= Sequential()\n",
    "\n",
    "#First Input layer and LSTM layer with 0.2% dropout\n",
    "regression.add(LSTM(units=50,return_sequences=True,kernel_initializer='glorot_uniform',input_shape=(xtrain.shape[1],1)))\n",
    "regression.add(Dropout(0.2))\n",
    "\n",
    "# Where:\n",
    "#     return_sequences: Boolean. Whether to return the last output in the output sequence, or the full sequence.\n",
    "\n",
    "# Second LSTM layer with 0.2% dropout\n",
    "regression.add(LSTM(units=50,kernel_initializer='glorot_uniform',return_sequences=True))\n",
    "regression.add(Dropout(0.2))\n",
    "\n",
    "#Third LSTM layer with 0.2% dropout\n",
    "regression.add(LSTM(units=50,kernel_initializer='glorot_uniform',return_sequences=True))\n",
    "regression.add(Dropout(0.2))\n",
    "\n",
    "#Fourth LSTM layer with 0.2% dropout, we wont use return sequence true in last layers as we dont want to previous output\n",
    "regression.add(LSTM(units=50,kernel_initializer='glorot_uniform'))\n",
    "regression.add(Dropout(0.2))\n",
    "#Output layer , we wont pass any activation as its continous value model\n",
    "regression.add(Dense(units=1))\n",
    "\n",
    "#Compiling the network\n",
    "regression.compile(optimizer='adam',loss='mean_squared_error')\n",
    "\n",
    "\n",
    "#fitting the network\n",
    "regression.fit(xtrain,ytrain,batch_size=30,epochs=100)"
   ]
  },
  {
   "cell_type": "markdown",
   "id": "52b33b11",
   "metadata": {},
   "source": [
    "# Predicting for test data"
   ]
  },
  {
   "cell_type": "markdown",
   "id": "a3d96a80",
   "metadata": {},
   "source": [
    "As we have 60 input in our layer, we will concatenate our train and test and will take last 60 values of our training set with test set"
   ]
  },
  {
   "cell_type": "code",
   "execution_count": 102,
   "id": "cf8fd935",
   "metadata": {},
   "outputs": [],
   "source": [
    "test_open= test.iloc[:, 1:2].values #taking  open price\n",
    "total= pd.concat([train['Open'],test['Open']],axis=0) # Concating train and test and then will take last 60 train point\n",
    "test_input = total[len(total)-len(test)-60:].values\n",
    "test_input= test_input.reshape(-1,1) # reshaping it to get it transformed\n",
    "test_input= ss.transform(test_input)"
   ]
  },
  {
   "cell_type": "code",
   "execution_count": 103,
   "id": "b3179aa0",
   "metadata": {},
   "outputs": [],
   "source": [
    "xtest= []\n",
    "for i in range(60,80):\n",
    "    xtest.append(test_input[i-60:i,0]) #creating input for lstm prediction"
   ]
  },
  {
   "cell_type": "code",
   "execution_count": 104,
   "id": "237a57a2",
   "metadata": {},
   "outputs": [],
   "source": [
    "xtest= np.array(xtest)"
   ]
  },
  {
   "cell_type": "code",
   "execution_count": 105,
   "id": "45a3d82a",
   "metadata": {},
   "outputs": [
    {
     "name": "stdout",
     "output_type": "stream",
     "text": [
      "1/1 [==============================] - 1s 1s/step\n"
     ]
    }
   ],
   "source": [
    "xtest= np.reshape(xtest,(xtest.shape[0],xtest.shape[1],1))\n",
    "predicted_value= regression.predict(xtest)"
   ]
  },
  {
   "cell_type": "code",
   "execution_count": 106,
   "id": "9d888559",
   "metadata": {},
   "outputs": [],
   "source": [
    "predicted_value= ss.inverse_transform(predicted_value)"
   ]
  },
  {
   "cell_type": "markdown",
   "id": "3a2b520b",
   "metadata": {},
   "source": [
    "# Plotting the data"
   ]
  },
  {
   "cell_type": "code",
   "execution_count": 107,
   "id": "3e5ad4dc",
   "metadata": {},
   "outputs": [
    {
     "data": {
      "text/plain": [
       "<matplotlib.legend.Legend at 0x22544a12f10>"
      ]
     },
     "execution_count": 107,
     "metadata": {},
     "output_type": "execute_result"
    },
    {
     "data": {
      "image/png": "[encoded data removed]",
      "text/plain": [
       "<Figure size 1440x720 with 1 Axes>"
      ]
     },
     "metadata": {
      "needs_background": "light"
     },
     "output_type": "display_data"
    }
   ],
   "source": [
    "plt.figure(figsize=(20,10))\n",
    "plt.plot(test_open,'red',label='Real Prices')\n",
    "plt.plot(predicted_value,'blue',label='Predicted Prices')\n",
    "plt.xlabel('Time')\n",
    "plt.ylabel('Prices')\n",
    "plt.title('Real vs Predicted Prices')\n",
    "plt.legend(loc='best', fontsize=20)"
   ]
  },
  {
   "cell_type": "markdown",
   "id": "6d72e5a7",
   "metadata": {},
   "source": [
    "The Graph obtained is the output for our dataset we have predicted stock of the Organization"
   ]
  },
  {
   "cell_type": "code",
   "execution_count": 108,
   "id": "6323ae80",
   "metadata": {},
   "outputs": [
    {
     "name": "stdout",
     "output_type": "stream",
     "text": [
      "Requirement already satisfied: scikeras in c:\\users\\ashiy\\anaconda3\\lib\\site-packages (0.11.0)\n",
      "Requirement already satisfied: scikit-learn>=1.0.0 in c:\\users\\ashiy\\anaconda3\\lib\\site-packages (from scikeras) (1.0.2)\n",
      "Note: you may need to restart the kernel to use updated packages.Requirement already satisfied: packaging>=0.21 in c:\\users\\ashiy\\anaconda3\\lib\\site-packages (from scikeras) (21.3)\n",
      "\n",
      "Requirement already satisfied: tensorflow-io-gcs-filesystem<0.32,>=0.23.1 in c:\\users\\ashiy\\anaconda3\\lib\\site-packages (from scikeras) (0.31.0)\n"
     ]
    },
    {
     "name": "stderr",
     "output_type": "stream",
     "text": [
      "ERROR: pip's dependency resolver does not currently take into account all the packages that are installed. This behaviour is the source of the following dependency conflicts.\n",
      "daal4py 2021.5.0 requires daal==2021.4.0, which is not installed.\n",
      "tensorflow-intel 2.14.0 requires numpy>=1.23.5, but you have numpy 1.22.4 which is incompatible.\n",
      "numba 0.55.1 requires numpy<1.22,>=1.18, but you have numpy 1.22.4 which is incompatible.\n"
     ]
    },
    {
     "name": "stdout",
     "output_type": "stream",
     "text": [
      "Requirement already satisfied: pyparsing!=3.0.5,>=2.0.2 in c:\\users\\ashiy\\anaconda3\\lib\\site-packages (from packaging>=0.21->scikeras) (3.0.4)\n",
      "Requirement already satisfied: numpy>=1.14.6 in c:\\users\\ashiy\\anaconda3\\lib\\site-packages (from scikit-learn>=1.0.0->scikeras) (1.26.0)\n",
      "Requirement already satisfied: scipy>=1.1.0 in c:\\users\\ashiy\\anaconda3\\lib\\site-packages (from scikit-learn>=1.0.0->scikeras) (1.7.3)\n",
      "Requirement already satisfied: joblib>=0.11 in c:\\users\\ashiy\\anaconda3\\lib\\site-packages (from scikit-learn>=1.0.0->scikeras) (1.1.0)\n",
      "Requirement already satisfied: threadpoolctl>=2.0.0 in c:\\users\\ashiy\\anaconda3\\lib\\site-packages (from scikit-learn>=1.0.0->scikeras) (2.2.0)\n",
      "Collecting numpy>=1.14.6\n",
      "  Using cached numpy-1.22.4-cp39-cp39-win_amd64.whl (14.7 MB)\n",
      "Installing collected packages: numpy\n",
      "  Attempting uninstall: numpy\n",
      "    Found existing installation: numpy 1.26.0\n",
      "    Uninstalling numpy-1.26.0:\n",
      "      Successfully uninstalled numpy-1.26.0\n",
      "Successfully installed numpy-1.22.4\n"
     ]
    }
   ],
   "source": [
    "pip install scikeras"
   ]
  },
  {
   "cell_type": "code",
   "execution_count": 109,
   "id": "54177bcf",
   "metadata": {},
   "outputs": [],
   "source": [
    "from scikeras.wrappers import KerasRegressor"
   ]
  },
  {
   "cell_type": "code",
   "execution_count": 110,
   "id": "4412af25",
   "metadata": {},
   "outputs": [],
   "source": [
    "def reg(optimizer):\n",
    "    #initialisizng the model \n",
    "    regression= Sequential()\n",
    "\n",
    "    #First Input layer and LSTM layer with 0.2% dropout\n",
    "    regression.add(LSTM(units=50,return_sequences=True,kernel_initializer='glorot_uniform',input_shape=(xtrain.shape[1],1)))\n",
    "    regression.add(Dropout(0.2))\n",
    "\n",
    "    # Second LSTM layer with 0.2% dropout\n",
    "    regression.add(LSTM(units=50,kernel_initializer= 'glorot_uniform',return_sequences=True))\n",
    "    regression.add(Dropout(0.2))\n",
    "\n",
    "    #Third LSTM layer with 0.2% dropout\n",
    "    regression.add(LSTM(units=50,kernel_initializer='glorot_uniform',return_sequences=True))\n",
    "    regression.add(Dropout(0.2))\n",
    "\n",
    "    #Fourth LSTM layer with 0.2% dropout, we wont use return sequence true in last layers as we dont want to previous output\n",
    "    regression.add(LSTM(units=50,kernel_initializer='glorot_uniform'))\n",
    "    \n",
    "    regression.add(Dropout(0.2))\n",
    "    #Output layer , we wont pass any activation as its continous value model\n",
    "    regression.add(Dense(units=1))\n",
    "\n",
    "    #Compiling the network\n",
    "    regression.compile(optimizer=optimizer,loss='mean_squared_error')\n",
    "    \n",
    "    return regression\n",
    "\n",
    "model= KerasRegressor(build_fn=reg)"
   ]
  },
  {
   "cell_type": "code",
   "execution_count": null,
   "id": "1fd1dbdf",
   "metadata": {},
   "outputs": [],
   "source": []
  }
 ],
 "metadata": {
  "kernelspec": {
   "display_name": "Python 3 (ipykernel)",
   "language": "python",
   "name": "python3"
  },
  "language_info": {
   "codemirror_mode": {
    "name": "ipython",
    "version": 3
   },
   "file_extension": ".py",
   "mimetype": "text/x-python",
   "name": "python",
   "nbconvert_exporter": "python",
   "pygments_lexer": "ipython3",
   "version": "3.9.12"
  }
 },
 "nbformat": 4,
 "nbformat_minor": 5
}
